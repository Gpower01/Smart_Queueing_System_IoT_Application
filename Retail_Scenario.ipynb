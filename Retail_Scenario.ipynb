{
 "cells": [
  {
   "cell_type": "markdown",
   "metadata": {},
   "source": [
    "# Smart Queue Monitoring System - Retail Scenario\n",
    "\n",
    "## Overview\n",
    "Now that you have your Python script and job submission script, you're ready to request an **IEI Tank-870** edge node and run inference on the different hardware types (CPU, GPU, VPU, FPGA).\n",
    "\n",
    "After the inference is completed, the output video and stats files need to be retrieved and stored in the workspace, which can then be viewed within the Jupyter Notebook.\n",
    "\n",
    "## Objectives\n",
    "* Submit inference jobs to Intel's DevCloud using the `qsub` command.\n",
    "* Retrieve and review the results.\n",
    "* After testing, go back to the proposal doc and update your original proposed hardware device."
   ]
  },
  {
   "cell_type": "markdown",
   "metadata": {},
   "source": [
    "## Step 0: Set Up\n",
    "\n",
    "#### IMPORTANT: Set up paths so we can run Dev Cloud utilities\n",
    "You *must* run this every time you enter a Workspace session.\n",
    "(Tip: select the cell and use **Shift+Enter** to run the cell.)"
   ]
  },
  {
   "cell_type": "code",
   "execution_count": 102,
   "metadata": {},
   "outputs": [
    {
     "name": "stdout",
     "output_type": "stream",
     "text": [
      "env: PATH=/opt/conda/bin:/opt/spark-2.4.3-bin-hadoop2.7/bin:/opt/conda/bin:/usr/local/sbin:/usr/local/bin:/usr/sbin:/usr/bin:/sbin:/bin:/opt/intel_devcloud_support\n"
     ]
    }
   ],
   "source": [
    "%env PATH=/opt/conda/bin:/opt/spark-2.4.3-bin-hadoop2.7/bin:/opt/conda/bin:/usr/local/sbin:/usr/local/bin:/usr/sbin:/usr/bin:/sbin:/bin:/opt/intel_devcloud_support\n",
    "import os\n",
    "import sys\n",
    "sys.path.insert(0, os.path.abspath('/opt/intel_devcloud_support'))\n",
    "sys.path.insert(0, os.path.abspath('/opt/intel'))"
   ]
  },
  {
   "cell_type": "markdown",
   "metadata": {},
   "source": [
    "### Step 0.1:  (Optional-step): Original Video\n",
    "\n",
    "If you are curious to see the input video, run the following cell to view the original video stream we'll be using for inference."
   ]
  },
  {
   "cell_type": "code",
   "execution_count": 3,
   "metadata": {},
   "outputs": [
    {
     "data": {
      "text/html": [
       "<h5>Retail</h5>\n",
       "        <video alt=\"\" controls autoplay muted height=\"480\"><source src=\"original_videos/Retail.mp4\" type=\"video/mp4\" /></video>\n",
       "        "
      ],
      "text/plain": [
       "<IPython.core.display.HTML object>"
      ]
     },
     "execution_count": 3,
     "metadata": {},
     "output_type": "execute_result"
    }
   ],
   "source": [
    "import videoHtml\n",
    "videoHtml.videoHTML('Retail', ['original_videos/Retail.mp4'])"
   ]
  },
  {
   "cell_type": "markdown",
   "metadata": {},
   "source": [
    "## Step 1 : Inference on a Video\n",
    "\n",
    "In the next few cells, You'll submit your job using the `qsub` command and retrieving the results for each job. Each of the cells below should submit a job to different edge compute nodes.\n",
    "\n",
    "The output of the cell is the `JobID` of your job, which you can use to track progress of a job with `liveQStat`.\n",
    "\n",
    "You will need to submit a job for each of the following hardware types:\n",
    "* **CPU**\n",
    "* **GPU**\n",
    "* **VPU**\n",
    "* **FPGA**\n",
    "\n",
    "**Note** You will have to submit each job one at a time and retrieve their results. \n",
    "\n",
    "After submission, they will go into a queue and run as soon as the requested compute resources become available. \n",
    "(Tip: **shift+enter** will run the cell and automatically move you to the next cell.)\n",
    "\n",
    "If your job successfully runs and completes, once you retrieve your results, it should output a video and a stats text file in the `results/retail/<DEVICE>` directory.\n",
    "\n",
    "For example, your **CPU** job should output its files in this directory:\n",
    "> **results/retail/cpu**\n",
    "\n",
    "**Note**: To get the queue labels for the different hardware devices, you can go to [this link](https://devcloud.intel.com/edge/get_started/devcloud/).\n",
    "\n",
    "The following arguments should be passed to the job submission script after the `-F` flag:\n",
    "* Model path - `/data/models/intel/person-detection-retail-0013/<MODEL PRECISION>/`. You will need to adjust this path based on the model precision being using on the hardware.\n",
    "* Device - `CPU`, `GPU`, `MYRIAD`, `HETERO:FPGA,CPU`\n",
    "* Manufacturing video path - `/data/resources/retail.mp4`\n",
    "* Manufacturing queue_param file path - `/data/queue_param/retail.npy`\n",
    "* Output path - `/output/results/retail/<DEVICE>` This should be adjusted based on the device used in the job.\n",
    "* Max num of people - This is the max number of people in queue before the system would redirect them to another queue."
   ]
  },
  {
   "cell_type": "markdown",
   "metadata": {},
   "source": [
    "## Step 1.1: Submit to an Edge Compute Node with an Intel CPU\n",
    "In the cell below, write a script to submit a job to an <a \n",
    "    href=\"https://software.intel.com/en-us/iot/hardware/iei-tank-dev-kit-core\">IEI \n",
    "    Tank* 870-Q170</a> edge node with an <a \n",
    "    href=\"https://ark.intel.com/products/88186/Intel-Core-i5-6500TE-Processor-6M-Cache-up-to-3-30-GHz-\">Intel® Core™ i5-6500TE processor</a>. The inference workload should run on the CPU."
   ]
  },
  {
   "cell_type": "code",
   "execution_count": 13,
   "metadata": {},
   "outputs": [
    {
     "data": {
      "text/plain": [
       "'CPU /data/models/intel/person-detection-retail-0013/FP16/person-detection-retail-0013 /data/resources/retail.mp4 /data/queue_param/retail.npy /output/results/retail/cpu 2'"
      ]
     },
     "execution_count": 13,
     "metadata": {},
     "output_type": "execute_result"
    }
   ],
   "source": [
    "# Defining the following parameters for running inference on the device:\n",
    "device = \"CPU\"\n",
    "model_path = '/data/models/intel/person-detection-retail-0013/FP16/person-detection-retail-0013'\n",
    "video_path = '/data/resources/retail.mp4'\n",
    "queue = '/data/queue_param/retail.npy'\n",
    "output_path = \"/output/results/retail/cpu\"\n",
    "max_people = 2\n",
    "\n",
    "# Running on CPU as it was organised in queue_job.sh  - DEVICE=$1 MODEL=$2 VIDEO=$3 QUEUE=$4 OUTPUT=$5 PEOPLE=$6\n",
    "variable = '{} {} {} {} {} {}'.format(device, model_path, video_path, queue, output_path, max_people)\n",
    "job_name = \"retail_cpu\"\n",
    "variable"
   ]
  },
  {
   "cell_type": "code",
   "execution_count": 14,
   "metadata": {},
   "outputs": [
    {
     "name": "stdout",
     "output_type": "stream",
     "text": [
      "nsqeBfiMVIn53tcV23dGXsHz5Cyl2NgR\n"
     ]
    }
   ],
   "source": [
    "#Submit job to the queue\n",
    "cpu_job_id = !qsub queue_job.sh -d . -l nodes=1:tank-870:i5-6500te -F \"{variable}\" -N \"{job_name}\"\n",
    "\n",
    "print(cpu_job_id[0])"
   ]
  },
  {
   "cell_type": "markdown",
   "metadata": {},
   "source": [
    "#### Check Job Status\n",
    "\n",
    "To check on the job that was submitted, use `liveQStat` to check the status of the job.\n",
    "\n",
    "Column `S` shows the state of your running jobs.\n",
    "\n",
    "For example:\n",
    "- If `JOB ID`is in Q state, it is in the queue waiting for available resources.\n",
    "- If `JOB ID` is in R state, it is running."
   ]
  },
  {
   "cell_type": "code",
   "execution_count": 15,
   "metadata": {},
   "outputs": [],
   "source": [
    "import liveQStat\n",
    "liveQStat.liveQStat()"
   ]
  },
  {
   "cell_type": "markdown",
   "metadata": {},
   "source": [
    "#### Get Results\n",
    "\n",
    "Run the next cell to retrieve your job's results."
   ]
  },
  {
   "cell_type": "code",
   "execution_count": 16,
   "metadata": {},
   "outputs": [
    {
     "name": "stdout",
     "output_type": "stream",
     "text": [
      "getResults() is blocking until results of the job (id:nsqeBfiMVIn53tcV23dGXsHz5Cyl2NgR) are ready.\n",
      "Please wait...Success!\n",
      "output.tgz was downloaded in the same folder as this notebook.\n"
     ]
    }
   ],
   "source": [
    "import get_results\n",
    "get_results.getResults(cpu_job_id[0], filename='output.tgz', blocking=True)"
   ]
  },
  {
   "cell_type": "markdown",
   "metadata": {},
   "source": [
    "#### Unpack your output files and view stdout.log"
   ]
  },
  {
   "cell_type": "code",
   "execution_count": 17,
   "metadata": {},
   "outputs": [],
   "source": [
    "!tar zxf output.tgz"
   ]
  },
  {
   "cell_type": "code",
   "execution_count": 18,
   "metadata": {},
   "outputs": [
    {
     "name": "stdout",
     "output_type": "stream",
     "text": [
      "Total People in frame = 4\r\n",
      "Number of people in queue = {1: 1, 2: 1}\r\n",
      "Total People in frame = 4\r\n",
      "Number of people in queue = {1: 1, 2: 1}\r\n",
      "Total People in frame = 5\r\n",
      "Number of people in queue = {1: 1, 2: 1}\r\n",
      "Total People in frame = 4\r\n",
      "Number of people in queue = {1: 1, 2: 1}\r\n",
      "Total People in frame = 4\r\n",
      "Number of people in queue = {1: 1, 2: 1}\r\n",
      "Total People in frame = 4\r\n",
      "Number of people in queue = {1: 1, 2: 1}\r\n",
      "Total People in frame = 4\r\n",
      "Number of people in queue = {1: 1, 2: 1}\r\n",
      "Total People in frame = 4\r\n",
      "Number of people in queue = {1: 1, 2: 1}\r\n",
      "Total People in frame = 4\r\n",
      "Number of people in queue = {1: 1, 2: 1}\r\n",
      "Total People in frame = 4\r\n",
      "Number of people in queue = {1: 1, 2: 1}\r\n",
      "Total People in frame = 4\r\n",
      "Number of people in queue = {1: 1, 2: 1}\r\n",
      "Total People in frame = 4\r\n",
      "Number of people in queue = {1: 1, 2: 1}\r\n",
      "Total People in frame = 4\r\n",
      "Number of people in queue = {1: 1, 2: 1}\r\n",
      "Total People in frame = 4\r\n",
      "Number of people in queue = {1: 1, 2: 1}\r\n",
      "Total People in frame = 4\r\n",
      "Number of people in queue = {1: 1, 2: 1}\r\n",
      "Total People in frame = 3\r\n",
      "Number of people in queue = {1: 1, 2: 1}\r\n",
      "Total People in frame = 3\r\n",
      "Number of people in queue = {1: 1, 2: 1}\r\n",
      "Total People in frame = 3\r\n",
      "Number of people in queue = {1: 1, 2: 1}\r\n",
      "Total People in frame = 3\r\n",
      "Number of people in queue = {1: 1, 2: 1}\r\n",
      "Total People in frame = 4\r\n",
      "Number of people in queue = {1: 1, 2: 1}\r\n",
      "Total People in frame = 4\r\n",
      "Number of people in queue = {1: 1, 2: 1}\r\n",
      "Total People in frame = 4\r\n",
      "Number of people in queue = {1: 2, 2: 1}\r\n",
      "Total People in frame = 5\r\n",
      "Number of people in queue = {1: 2, 2: 1}\r\n",
      "Total People in frame = 5\r\n",
      "Number of people in queue = {1: 2, 2: 1}\r\n",
      "Total People in frame = 5\r\n",
      "Number of people in queue = {1: 2, 2: 1}\r\n",
      "Total People in frame = 5\r\n",
      "Number of people in queue = {1: 2, 2: 1}\r\n",
      "Total People in frame = 4\r\n",
      "Number of people in queue = {1: 1, 2: 1}\r\n",
      "Total People in frame = 5\r\n",
      "Number of people in queue = {1: 2, 2: 1}\r\n",
      "Total People in frame = 5\r\n",
      "Number of people in queue = {1: 2, 2: 1}\r\n",
      "Total People in frame = 5\r\n",
      "Number of people in queue = {1: 2, 2: 1}\r\n",
      "Total People in frame = 5\r\n",
      "Number of people in queue = {1: 2, 2: 1}\r\n",
      "Total People in frame = 5\r\n",
      "Number of people in queue = {1: 2, 2: 1}\r\n",
      "Total People in frame = 5\r\n",
      "Number of people in queue = {1: 2, 2: 1}\r\n",
      "Total People in frame = 6\r\n",
      "Number of people in queue = {1: 2, 2: 1}\r\n",
      "Total People in frame = 6\r\n",
      "Number of people in queue = {1: 2, 2: 1}\r\n",
      "Total People in frame = 6\r\n",
      "Number of people in queue = {1: 2, 2: 1}\r\n",
      "Total People in frame = 6\r\n",
      "Number of people in queue = {1: 2, 2: 1}\r\n",
      "Total People in frame = 6\r\n",
      "Number of people in queue = {1: 2, 2: 1}\r\n",
      "Total People in frame = 6\r\n",
      "Number of people in queue = {1: 2, 2: 1}\r\n",
      "Total People in frame = 6\r\n",
      "Number of people in queue = {1: 2, 2: 1}\r\n",
      "Total People in frame = 6\r\n",
      "Number of people in queue = {1: 2, 2: 1}\r\n",
      "Total People in frame = 6\r\n",
      "Number of people in queue = {1: 2, 2: 1}\r\n",
      "Total People in frame = 6\r\n",
      "Number of people in queue = {1: 2, 2: 1}\r\n",
      "Total People in frame = 6\r\n",
      "Number of people in queue = {1: 2, 2: 1}\r\n",
      "Total People in frame = 6\r\n",
      "Number of people in queue = {1: 2, 2: 1}\r\n",
      "Total People in frame = 6\r\n",
      "Number of people in queue = {1: 2, 2: 1}\r\n",
      "Total People in frame = 5\r\n",
      "Number of people in queue = {1: 2, 2: 1}\r\n",
      "Total People in frame = 6\r\n",
      "Number of people in queue = {1: 2, 2: 1}\r\n",
      "Total People in frame = 6\r\n",
      "Number of people in queue = {1: 2, 2: 1}\r\n",
      "Total People in frame = 6\r\n",
      "Number of people in queue = {1: 2, 2: 1}\r\n",
      "Total People in frame = 5\r\n",
      "Number of people in queue = {1: 2, 2: 1}\r\n",
      "Total People in frame = 4\r\n",
      "Number of people in queue = {1: 2, 2: 1}\r\n",
      "Total People in frame = 5\r\n",
      "Number of people in queue = {1: 2, 2: 1}\r\n",
      "Total People in frame = 4\r\n",
      "Number of people in queue = {1: 1, 2: 1}\r\n",
      "Total People in frame = 4\r\n",
      "Number of people in queue = {1: 1, 2: 1}\r\n",
      "Total People in frame = 4\r\n",
      "Number of people in queue = {1: 2, 2: 1}\r\n",
      "Total People in frame = 4\r\n",
      "Number of people in queue = {1: 2, 2: 1}\r\n",
      "Total People in frame = 4\r\n",
      "Number of people in queue = {1: 2, 2: 1}\r\n",
      "Total People in frame = 4\r\n",
      "Number of people in queue = {1: 2, 2: 1}\r\n",
      "Total People in frame = 4\r\n",
      "Number of people in queue = {1: 2, 2: 1}\r\n",
      "Total People in frame = 4\r\n",
      "Number of people in queue = {1: 2, 2: 1}\r\n",
      "Total People in frame = 2\r\n",
      "Number of people in queue = {1: 1, 2: 1}\r\n",
      "Total People in frame = 3\r\n",
      "Number of people in queue = {1: 1, 2: 1}\r\n",
      "Total People in frame = 4\r\n",
      "Number of people in queue = {1: 2, 2: 1}\r\n",
      "Total People in frame = 4\r\n",
      "Number of people in queue = {1: 2, 2: 1}\r\n",
      "Total People in frame = 3\r\n",
      "Number of people in queue = {1: 2, 2: 1}\r\n",
      "Total People in frame = 4\r\n",
      "Number of people in queue = {1: 2, 2: 1}\r\n",
      "Total People in frame = 3\r\n",
      "Number of people in queue = {1: 2, 2: 1}\r\n",
      "Total People in frame = 3\r\n",
      "Number of people in queue = {1: 2, 2: 1}\r\n",
      "Total People in frame = 3\r\n",
      "Number of people in queue = {1: 2, 2: 1}\r\n",
      "Total People in frame = 3\r\n",
      "Number of people in queue = {1: 2, 2: 1}\r\n",
      "Total People in frame = 4\r\n",
      "Number of people in queue = {1: 2, 2: 1}\r\n",
      "Total People in frame = 4\r\n",
      "Number of people in queue = {1: 2, 2: 1}\r\n",
      "Total People in frame = 4\r\n",
      "Number of people in queue = {1: 2, 2: 1}\r\n",
      "Total People in frame = 4\r\n",
      "Number of people in queue = {1: 2, 2: 1}\r\n",
      "Total People in frame = 3\r\n",
      "Number of people in queue = {1: 2, 2: 1}\r\n",
      "Total People in frame = 3\r\n",
      "Number of people in queue = {1: 2, 2: 1}\r\n",
      "Total People in frame = 3\r\n",
      "Number of people in queue = {1: 2, 2: 1}\r\n",
      "Total People in frame = 3\r\n",
      "Number of people in queue = {1: 1, 2: 1}\r\n",
      "Total People in frame = 3\r\n",
      "Number of people in queue = {1: 1, 2: 1}\r\n",
      "Total People in frame = 4\r\n",
      "Number of people in queue = {1: 1, 2: 1}\r\n",
      "Total People in frame = 4\r\n",
      "Number of people in queue = {1: 1, 2: 1}\r\n",
      "Total People in frame = 3\r\n",
      "Number of people in queue = {1: 1, 2: 1}\r\n",
      "Total People in frame = 4\r\n",
      "Number of people in queue = {1: 1, 2: 1}\r\n",
      "Total People in frame = 4\r\n",
      "Number of people in queue = {1: 1, 2: 1}\r\n",
      "Total People in frame = 4\r\n",
      "Number of people in queue = {1: 1, 2: 1}\r\n",
      "Total People in frame = 4\r\n",
      "Number of people in queue = {1: 1, 2: 1}\r\n",
      "Total People in frame = 4\r\n",
      "Number of people in queue = {1: 1, 2: 1}\r\n",
      "Total People in frame = 4\r\n",
      "Number of people in queue = {1: 1, 2: 1}\r\n",
      "Total People in frame = 3\r\n",
      "Number of people in queue = {1: 1, 2: 0}\r\n",
      "Total People in frame = 3\r\n",
      "Number of people in queue = {1: 1, 2: 0}\r\n",
      "Total People in frame = 2\r\n",
      "Number of people in queue = {1: 1, 2: 0}\r\n",
      "Total People in frame = 2\r\n",
      "Number of people in queue = {1: 1, 2: 0}\r\n",
      "Total People in frame = 3\r\n",
      "Number of people in queue = {1: 1, 2: 1}\r\n",
      "Total People in frame = 2\r\n",
      "Number of people in queue = {1: 1, 2: 0}\r\n",
      "Total People in frame = 2\r\n",
      "Number of people in queue = {1: 1, 2: 0}\r\n",
      "Total People in frame = 2\r\n",
      "Number of people in queue = {1: 1, 2: 0}\r\n",
      "Total People in frame = 2\r\n",
      "Number of people in queue = {1: 1, 2: 0}\r\n",
      "Total People in frame = 2\r\n",
      "Number of people in queue = {1: 1, 2: 0}\r\n",
      "Total People in frame = 2\r\n",
      "Number of people in queue = {1: 1, 2: 0}\r\n",
      "Total People in frame = 2\r\n",
      "Number of people in queue = {1: 1, 2: 0}\r\n",
      "Total People in frame = 2\r\n",
      "Number of people in queue = {1: 1, 2: 0}\r\n",
      "Total People in frame = 2\r\n",
      "Number of people in queue = {1: 1, 2: 0}\r\n",
      "Total People in frame = 3\r\n",
      "Number of people in queue = {1: 1, 2: 0}\r\n",
      "Total People in frame = 3\r\n",
      "Number of people in queue = {1: 1, 2: 0}\r\n",
      "Total People in frame = 3\r\n",
      "Number of people in queue = {1: 1, 2: 0}\r\n",
      "Total People in frame = 2\r\n",
      "Number of people in queue = {1: 1, 2: 0}\r\n",
      "Total People in frame = 2\r\n",
      "Number of people in queue = {1: 1, 2: 0}\r\n",
      "Total People in frame = 2\r\n",
      "Number of people in queue = {1: 1, 2: 0}\r\n",
      "Total People in frame = 3\r\n",
      "Number of people in queue = {1: 1, 2: 0}\r\n",
      "Total People in frame = 3\r\n",
      "Number of people in queue = {1: 1, 2: 1}\r\n",
      "Total People in frame = 4\r\n",
      "Number of people in queue = {1: 1, 2: 1}\r\n",
      "Total People in frame = 3\r\n",
      "Number of people in queue = {1: 1, 2: 1}\r\n",
      "Total People in frame = 3\r\n",
      "Number of people in queue = {1: 1, 2: 1}\r\n",
      "Total People in frame = 3\r\n",
      "Number of people in queue = {1: 1, 2: 1}\r\n",
      "Total People in frame = 3\r\n",
      "Number of people in queue = {1: 1, 2: 1}\r\n",
      "Total People in frame = 3\r\n",
      "Number of people in queue = {1: 1, 2: 1}\r\n",
      "Total People in frame = 3\r\n",
      "Number of people in queue = {1: 1, 2: 1}\r\n",
      "Total People in frame = 3\r\n",
      "Number of people in queue = {1: 1, 2: 1}\r\n",
      "Total People in frame = 3\r\n",
      "Number of people in queue = {1: 1, 2: 1}\r\n",
      "Total People in frame = 3\r\n",
      "Number of people in queue = {1: 1, 2: 1}\r\n",
      "Total People in frame = 3\r\n",
      "Number of people in queue = {1: 1, 2: 1}\r\n",
      "Total People in frame = 3\r\n",
      "Number of people in queue = {1: 1, 2: 1}\r\n",
      "Total People in frame = 3\r\n",
      "Number of people in queue = {1: 1, 2: 1}\r\n",
      "Total People in frame = 3\r\n",
      "Number of people in queue = {1: 1, 2: 1}\r\n",
      "Total People in frame = 3\r\n",
      "Number of people in queue = {1: 1, 2: 1}\r\n",
      "Total People in frame = 3\r\n",
      "Number of people in queue = {1: 1, 2: 1}\r\n",
      "Total People in frame = 3\r\n",
      "Number of people in queue = {1: 1, 2: 1}\r\n",
      "Total People in frame = 3\r\n",
      "Number of people in queue = {1: 1, 2: 1}\r\n",
      "Total People in frame = 3\r\n",
      "Number of people in queue = {1: 1, 2: 1}\r\n",
      "Total People in frame = 3\r\n",
      "Number of people in queue = {1: 1, 2: 1}\r\n",
      "Total People in frame = 3\r\n",
      "Number of people in queue = {1: 1, 2: 1}\r\n",
      "Total People in frame = 3\r\n",
      "Number of people in queue = {1: 1, 2: 1}\r\n",
      "Total People in frame = 3\r\n",
      "Number of people in queue = {1: 1, 2: 1}\r\n",
      "Total People in frame = 3\r\n",
      "Number of people in queue = {1: 1, 2: 1}\r\n",
      "Total People in frame = 3\r\n",
      "Number of people in queue = {1: 1, 2: 1}\r\n",
      "Total People in frame = 3\r\n",
      "Number of people in queue = {1: 1, 2: 1}\r\n",
      "Total People in frame = 3\r\n",
      "Number of people in queue = {1: 1, 2: 1}\r\n",
      "Total People in frame = 4\r\n",
      "Number of people in queue = {1: 1, 2: 1}\r\n",
      "Total People in frame = 3\r\n",
      "Number of people in queue = {1: 1, 2: 1}\r\n",
      "Total People in frame = 4\r\n",
      "Number of people in queue = {1: 1, 2: 1}\r\n",
      "Total People in frame = 4\r\n",
      "Number of people in queue = {1: 1, 2: 1}\r\n",
      "Total People in frame = 4\r\n",
      "Number of people in queue = {1: 1, 2: 1}\r\n",
      "Total People in frame = 4\r\n",
      "Number of people in queue = {1: 1, 2: 1}\r\n",
      "Total People in frame = 4\r\n",
      "Number of people in queue = {1: 1, 2: 1}\r\n",
      "Total People in frame = 3\r\n",
      "Number of people in queue = {1: 1, 2: 1}\r\n",
      "Total People in frame = 3\r\n",
      "Number of people in queue = {1: 1, 2: 1}\r\n",
      "Total People in frame = 3\r\n",
      "Number of people in queue = {1: 1, 2: 1}\r\n",
      "Total People in frame = 3\r\n",
      "Number of people in queue = {1: 1, 2: 1}\r\n",
      "Total People in frame = 3\r\n",
      "Number of people in queue = {1: 1, 2: 1}\r\n",
      "Total People in frame = 4\r\n",
      "Number of people in queue = {1: 1, 2: 1}\r\n",
      "Total People in frame = 4\r\n",
      "Number of people in queue = {1: 1, 2: 1}\r\n",
      "Total People in frame = 3\r\n",
      "Number of people in queue = {1: 1, 2: 1}\r\n",
      "Total People in frame = 4\r\n",
      "Number of people in queue = {1: 1, 2: 1}\r\n",
      "Total People in frame = 4\r\n",
      "Number of people in queue = {1: 1, 2: 1}\r\n",
      "Total People in frame = 4\r\n",
      "Number of people in queue = {1: 1, 2: 1}\r\n",
      "Total People in frame = 4\r\n",
      "Number of people in queue = {1: 1, 2: 1}\r\n",
      "Total People in frame = 3\r\n",
      "Number of people in queue = {1: 1, 2: 1}\r\n",
      "Total People in frame = 2\r\n",
      "Number of people in queue = {1: 1, 2: 1}\r\n",
      "Total People in frame = 3\r\n",
      "Number of people in queue = {1: 1, 2: 1}\r\n",
      "Total People in frame = 2\r\n",
      "Number of people in queue = {1: 1, 2: 0}\r\n",
      "Total People in frame = 2\r\n",
      "Number of people in queue = {1: 1, 2: 0}\r\n",
      "Total People in frame = 2\r\n",
      "Number of people in queue = {1: 1, 2: 0}\r\n",
      "Total People in frame = 2\r\n",
      "Number of people in queue = {1: 1, 2: 0}\r\n",
      "Total People in frame = 2\r\n",
      "Number of people in queue = {1: 1, 2: 0}\r\n",
      "Total People in frame = 0\r\n",
      "Number of people in queue = {1: 0, 2: 0}\r\n",
      "results/\r\n",
      "results/retail/\r\n",
      "results/retail/cpu/\r\n",
      "results/retail/cpu/stats.txt\r\n",
      "results/retail/cpu/output_video.mp4\r\n",
      "stderr.log\r\n"
     ]
    }
   ],
   "source": [
    "!cat stdout.log"
   ]
  },
  {
   "cell_type": "markdown",
   "metadata": {},
   "source": [
    "#### View stderr.log\n",
    "This can be used for debugging"
   ]
  },
  {
   "cell_type": "code",
   "execution_count": 19,
   "metadata": {},
   "outputs": [
    {
     "name": "stdout",
     "output_type": "stream",
     "text": [
      "person_detect.py:70: DeprecationWarning: Reading network using constructor is deprecated. Please, use IECore.read_network() method instead\r\n",
      "  self.model=IENetwork(self.model_structure, self.model_weights)\r\n"
     ]
    }
   ],
   "source": [
    "!cat stderr.log"
   ]
  },
  {
   "cell_type": "code",
   "execution_count": 20,
   "metadata": {},
   "outputs": [
    {
     "name": "stdout",
     "output_type": "stream",
     "text": [
      "4.6\r\n",
      "36.08695652173913\r\n",
      "1.583164930343628\r\n"
     ]
    }
   ],
   "source": [
    "!cat results/retail/cpu/stats.txt"
   ]
  },
  {
   "cell_type": "markdown",
   "metadata": {},
   "source": [
    "#### View Output Video\n",
    "Run the cell below to view the output video. If inference was successfully run, you should see a video with bounding boxes drawn around each person detected."
   ]
  },
  {
   "cell_type": "code",
   "execution_count": 21,
   "metadata": {},
   "outputs": [
    {
     "data": {
      "text/html": [
       "<h5>Retail CPU</h5>\n",
       "        <video alt=\"\" controls autoplay muted height=\"480\"><source src=\"results/retail/cpu/output_video.mp4\" type=\"video/mp4\" /></video>\n",
       "        "
      ],
      "text/plain": [
       "<IPython.core.display.HTML object>"
      ]
     },
     "execution_count": 21,
     "metadata": {},
     "output_type": "execute_result"
    }
   ],
   "source": [
    "import videoHtml\n",
    "\n",
    "videoHtml.videoHTML('Retail CPU', ['results/retail/cpu/output_video.mp4'])"
   ]
  },
  {
   "cell_type": "markdown",
   "metadata": {},
   "source": [
    "## Step 1.2: Submit to an Edge Compute Node with a CPU and IGPU\n",
    "In the cell below, write a script to submit a job to an <a \n",
    "    href=\"https://software.intel.com/en-us/iot/hardware/iei-tank-dev-kit-core\">IEI \n",
    "    Tank* 870-Q170</a> edge node with an <a href=\"https://ark.intel.com/products/88186/Intel-Core-i5-6500TE-Processor-6M-Cache-up-to-3-30-GHz-\">Intel® Core i5-6500TE</a>. The inference workload should run on the **Intel® HD Graphics 530** integrated GPU."
   ]
  },
  {
   "cell_type": "code",
   "execution_count": 32,
   "metadata": {},
   "outputs": [
    {
     "data": {
      "text/plain": [
       "'GPU /data/models/intel/person-detection-retail-0013/FP16/person-detection-retail-0013 /data/resources/retail.mp4 /data/queue_param/retail.npy /output/results/retail/gpu 2'"
      ]
     },
     "execution_count": 32,
     "metadata": {},
     "output_type": "execute_result"
    }
   ],
   "source": [
    "# Defining the following parameters for running inference on the device:\n",
    "device = \"GPU\"\n",
    "model_path = '/data/models/intel/person-detection-retail-0013/FP16/person-detection-retail-0013'\n",
    "video_path = '/data/resources/retail.mp4'\n",
    "queue = '/data/queue_param/retail.npy'\n",
    "output_path = \"/output/results/retail/gpu\"\n",
    "max_people = 2\n",
    "\n",
    "# Running on GPU as it was organised in queue_job.sh  - DEVICE=$1 MODEL=$2 VIDEO=$3 QUEUE=$4 OUTPUT=$5 PEOPLE=$6\n",
    "variable = '{} {} {} {} {} {}'.format(device, model_path, video_path, queue, output_path, max_people)\n",
    "job_name = \"retail_gpu\"\n",
    "variable"
   ]
  },
  {
   "cell_type": "code",
   "execution_count": 33,
   "metadata": {},
   "outputs": [
    {
     "name": "stdout",
     "output_type": "stream",
     "text": [
      "ZCYWvk623QaQ1tUmpbqQKdPs2uZvq948\n"
     ]
    }
   ],
   "source": [
    "#Submit job to the queue\n",
    "gpu_job_id = !qsub queue_job.sh -d . -l nodes=1:tank-870:i5-6500te:intel-hd-530 -F \"{variable}\" -N \"{job_name}\"\n",
    "\n",
    "print(gpu_job_id[0])"
   ]
  },
  {
   "cell_type": "markdown",
   "metadata": {},
   "source": [
    "### Check Job Status\n",
    "\n",
    "To check on the job that was submitted, use `liveQStat` to check the status of the job.\n",
    "\n",
    "Column `S` shows the state of your running jobs.\n",
    "\n",
    "For example:\n",
    "- If `JOB ID`is in Q state, it is in the queue waiting for available resources.\n",
    "- If `JOB ID` is in R state, it is running."
   ]
  },
  {
   "cell_type": "code",
   "execution_count": 34,
   "metadata": {},
   "outputs": [],
   "source": [
    "import liveQStat\n",
    "liveQStat.liveQStat()"
   ]
  },
  {
   "cell_type": "markdown",
   "metadata": {},
   "source": [
    "#### Get Results\n",
    "\n",
    "Run the next cell to retrieve your job's results."
   ]
  },
  {
   "cell_type": "code",
   "execution_count": 35,
   "metadata": {},
   "outputs": [
    {
     "name": "stdout",
     "output_type": "stream",
     "text": [
      "getResults() is blocking until results of the job (id:ZCYWvk623QaQ1tUmpbqQKdPs2uZvq948) are ready.\n",
      "Please wait................................................Success!\n",
      "output.tgz was downloaded in the same folder as this notebook.\n"
     ]
    }
   ],
   "source": [
    "import get_results\n",
    "get_results.getResults(gpu_job_id[0], filename='output.tgz', blocking=True)"
   ]
  },
  {
   "cell_type": "markdown",
   "metadata": {},
   "source": [
    "#### Unpack your output files and view stdout.log"
   ]
  },
  {
   "cell_type": "code",
   "execution_count": 36,
   "metadata": {},
   "outputs": [],
   "source": [
    "!tar zxf output.tgz"
   ]
  },
  {
   "cell_type": "code",
   "execution_count": 37,
   "metadata": {},
   "outputs": [
    {
     "name": "stdout",
     "output_type": "stream",
     "text": [
      "Total People in frame = 4\r\n",
      "Number of people in queue = {1: 1, 2: 1}\r\n",
      "Total People in frame = 4\r\n",
      "Number of people in queue = {1: 1, 2: 1}\r\n",
      "Total People in frame = 5\r\n",
      "Number of people in queue = {1: 1, 2: 1}\r\n",
      "Total People in frame = 4\r\n",
      "Number of people in queue = {1: 1, 2: 1}\r\n",
      "Total People in frame = 4\r\n",
      "Number of people in queue = {1: 1, 2: 1}\r\n",
      "Total People in frame = 4\r\n",
      "Number of people in queue = {1: 1, 2: 1}\r\n",
      "Total People in frame = 4\r\n",
      "Number of people in queue = {1: 1, 2: 1}\r\n",
      "Total People in frame = 4\r\n",
      "Number of people in queue = {1: 1, 2: 1}\r\n",
      "Total People in frame = 4\r\n",
      "Number of people in queue = {1: 1, 2: 1}\r\n",
      "Total People in frame = 4\r\n",
      "Number of people in queue = {1: 1, 2: 1}\r\n",
      "Total People in frame = 4\r\n",
      "Number of people in queue = {1: 1, 2: 1}\r\n",
      "Total People in frame = 4\r\n",
      "Number of people in queue = {1: 1, 2: 1}\r\n",
      "Total People in frame = 4\r\n",
      "Number of people in queue = {1: 1, 2: 1}\r\n",
      "Total People in frame = 3\r\n",
      "Number of people in queue = {1: 1, 2: 1}\r\n",
      "Total People in frame = 3\r\n",
      "Number of people in queue = {1: 1, 2: 1}\r\n",
      "Total People in frame = 3\r\n",
      "Number of people in queue = {1: 1, 2: 1}\r\n",
      "Total People in frame = 3\r\n",
      "Number of people in queue = {1: 1, 2: 1}\r\n",
      "Total People in frame = 3\r\n",
      "Number of people in queue = {1: 1, 2: 1}\r\n",
      "Total People in frame = 3\r\n",
      "Number of people in queue = {1: 1, 2: 1}\r\n",
      "Total People in frame = 4\r\n",
      "Number of people in queue = {1: 1, 2: 1}\r\n",
      "Total People in frame = 4\r\n",
      "Number of people in queue = {1: 1, 2: 1}\r\n",
      "Total People in frame = 4\r\n",
      "Number of people in queue = {1: 2, 2: 1}\r\n",
      "Total People in frame = 5\r\n",
      "Number of people in queue = {1: 2, 2: 1}\r\n",
      "Total People in frame = 5\r\n",
      "Number of people in queue = {1: 2, 2: 1}\r\n",
      "Total People in frame = 5\r\n",
      "Number of people in queue = {1: 2, 2: 1}\r\n",
      "Total People in frame = 5\r\n",
      "Number of people in queue = {1: 2, 2: 1}\r\n",
      "Total People in frame = 4\r\n",
      "Number of people in queue = {1: 1, 2: 1}\r\n",
      "Total People in frame = 5\r\n",
      "Number of people in queue = {1: 2, 2: 1}\r\n",
      "Total People in frame = 5\r\n",
      "Number of people in queue = {1: 2, 2: 1}\r\n",
      "Total People in frame = 5\r\n",
      "Number of people in queue = {1: 2, 2: 1}\r\n",
      "Total People in frame = 5\r\n",
      "Number of people in queue = {1: 2, 2: 1}\r\n",
      "Total People in frame = 5\r\n",
      "Number of people in queue = {1: 2, 2: 1}\r\n",
      "Total People in frame = 5\r\n",
      "Number of people in queue = {1: 2, 2: 1}\r\n",
      "Total People in frame = 6\r\n",
      "Number of people in queue = {1: 2, 2: 1}\r\n",
      "Total People in frame = 6\r\n",
      "Number of people in queue = {1: 2, 2: 1}\r\n",
      "Total People in frame = 6\r\n",
      "Number of people in queue = {1: 2, 2: 1}\r\n",
      "Total People in frame = 6\r\n",
      "Number of people in queue = {1: 2, 2: 1}\r\n",
      "Total People in frame = 6\r\n",
      "Number of people in queue = {1: 2, 2: 1}\r\n",
      "Total People in frame = 6\r\n",
      "Number of people in queue = {1: 2, 2: 1}\r\n",
      "Total People in frame = 6\r\n",
      "Number of people in queue = {1: 2, 2: 1}\r\n",
      "Total People in frame = 6\r\n",
      "Number of people in queue = {1: 2, 2: 1}\r\n",
      "Total People in frame = 6\r\n",
      "Number of people in queue = {1: 2, 2: 1}\r\n",
      "Total People in frame = 6\r\n",
      "Number of people in queue = {1: 2, 2: 1}\r\n",
      "Total People in frame = 6\r\n",
      "Number of people in queue = {1: 2, 2: 1}\r\n",
      "Total People in frame = 6\r\n",
      "Number of people in queue = {1: 2, 2: 1}\r\n",
      "Total People in frame = 6\r\n",
      "Number of people in queue = {1: 2, 2: 1}\r\n",
      "Total People in frame = 5\r\n",
      "Number of people in queue = {1: 2, 2: 1}\r\n",
      "Total People in frame = 6\r\n",
      "Number of people in queue = {1: 2, 2: 1}\r\n",
      "Total People in frame = 6\r\n",
      "Number of people in queue = {1: 2, 2: 1}\r\n",
      "Total People in frame = 6\r\n",
      "Number of people in queue = {1: 2, 2: 1}\r\n",
      "Total People in frame = 5\r\n",
      "Number of people in queue = {1: 2, 2: 1}\r\n",
      "Total People in frame = 4\r\n",
      "Number of people in queue = {1: 2, 2: 1}\r\n",
      "Total People in frame = 5\r\n",
      "Number of people in queue = {1: 2, 2: 1}\r\n",
      "Total People in frame = 3\r\n",
      "Number of people in queue = {1: 1, 2: 1}\r\n",
      "Total People in frame = 4\r\n",
      "Number of people in queue = {1: 1, 2: 1}\r\n",
      "Total People in frame = 4\r\n",
      "Number of people in queue = {1: 2, 2: 1}\r\n",
      "Total People in frame = 4\r\n",
      "Number of people in queue = {1: 2, 2: 1}\r\n",
      "Total People in frame = 4\r\n",
      "Number of people in queue = {1: 2, 2: 1}\r\n",
      "Total People in frame = 4\r\n",
      "Number of people in queue = {1: 2, 2: 1}\r\n",
      "Total People in frame = 4\r\n",
      "Number of people in queue = {1: 2, 2: 1}\r\n",
      "Total People in frame = 4\r\n",
      "Number of people in queue = {1: 2, 2: 1}\r\n",
      "Total People in frame = 3\r\n",
      "Number of people in queue = {1: 1, 2: 1}\r\n",
      "Total People in frame = 3\r\n",
      "Number of people in queue = {1: 1, 2: 1}\r\n",
      "Total People in frame = 4\r\n",
      "Number of people in queue = {1: 2, 2: 1}\r\n",
      "Total People in frame = 4\r\n",
      "Number of people in queue = {1: 2, 2: 1}\r\n",
      "Total People in frame = 3\r\n",
      "Number of people in queue = {1: 2, 2: 1}\r\n",
      "Total People in frame = 4\r\n",
      "Number of people in queue = {1: 2, 2: 1}\r\n",
      "Total People in frame = 3\r\n",
      "Number of people in queue = {1: 2, 2: 1}\r\n",
      "Total People in frame = 3\r\n",
      "Number of people in queue = {1: 2, 2: 1}\r\n",
      "Total People in frame = 3\r\n",
      "Number of people in queue = {1: 2, 2: 1}\r\n",
      "Total People in frame = 3\r\n",
      "Number of people in queue = {1: 2, 2: 1}\r\n",
      "Total People in frame = 4\r\n",
      "Number of people in queue = {1: 2, 2: 1}\r\n",
      "Total People in frame = 4\r\n",
      "Number of people in queue = {1: 2, 2: 1}\r\n",
      "Total People in frame = 4\r\n",
      "Number of people in queue = {1: 2, 2: 1}\r\n",
      "Total People in frame = 4\r\n",
      "Number of people in queue = {1: 2, 2: 1}\r\n",
      "Total People in frame = 3\r\n",
      "Number of people in queue = {1: 2, 2: 1}\r\n",
      "Total People in frame = 3\r\n",
      "Number of people in queue = {1: 2, 2: 1}\r\n",
      "Total People in frame = 3\r\n",
      "Number of people in queue = {1: 2, 2: 1}\r\n",
      "Total People in frame = 3\r\n",
      "Number of people in queue = {1: 1, 2: 1}\r\n",
      "Total People in frame = 3\r\n",
      "Number of people in queue = {1: 1, 2: 1}\r\n",
      "Total People in frame = 4\r\n",
      "Number of people in queue = {1: 1, 2: 1}\r\n",
      "Total People in frame = 4\r\n",
      "Number of people in queue = {1: 1, 2: 1}\r\n",
      "Total People in frame = 3\r\n",
      "Number of people in queue = {1: 1, 2: 1}\r\n",
      "Total People in frame = 4\r\n",
      "Number of people in queue = {1: 1, 2: 1}\r\n",
      "Total People in frame = 4\r\n",
      "Number of people in queue = {1: 1, 2: 1}\r\n",
      "Total People in frame = 4\r\n",
      "Number of people in queue = {1: 1, 2: 1}\r\n",
      "Total People in frame = 4\r\n",
      "Number of people in queue = {1: 1, 2: 1}\r\n",
      "Total People in frame = 4\r\n",
      "Number of people in queue = {1: 1, 2: 1}\r\n",
      "Total People in frame = 4\r\n",
      "Number of people in queue = {1: 1, 2: 1}\r\n",
      "Total People in frame = 3\r\n",
      "Number of people in queue = {1: 1, 2: 0}\r\n",
      "Total People in frame = 3\r\n",
      "Number of people in queue = {1: 1, 2: 0}\r\n",
      "Total People in frame = 2\r\n",
      "Number of people in queue = {1: 1, 2: 0}\r\n",
      "Total People in frame = 2\r\n",
      "Number of people in queue = {1: 1, 2: 0}\r\n",
      "Total People in frame = 3\r\n",
      "Number of people in queue = {1: 1, 2: 1}\r\n",
      "Total People in frame = 2\r\n",
      "Number of people in queue = {1: 1, 2: 0}\r\n",
      "Total People in frame = 2\r\n",
      "Number of people in queue = {1: 1, 2: 0}\r\n",
      "Total People in frame = 2\r\n",
      "Number of people in queue = {1: 1, 2: 0}\r\n",
      "Total People in frame = 2\r\n",
      "Number of people in queue = {1: 1, 2: 0}\r\n",
      "Total People in frame = 2\r\n",
      "Number of people in queue = {1: 1, 2: 0}\r\n",
      "Total People in frame = 2\r\n",
      "Number of people in queue = {1: 1, 2: 0}\r\n",
      "Total People in frame = 2\r\n",
      "Number of people in queue = {1: 1, 2: 0}\r\n",
      "Total People in frame = 2\r\n",
      "Number of people in queue = {1: 1, 2: 0}\r\n",
      "Total People in frame = 2\r\n",
      "Number of people in queue = {1: 1, 2: 0}\r\n",
      "Total People in frame = 3\r\n",
      "Number of people in queue = {1: 1, 2: 0}\r\n",
      "Total People in frame = 3\r\n",
      "Number of people in queue = {1: 1, 2: 0}\r\n",
      "Total People in frame = 3\r\n",
      "Number of people in queue = {1: 1, 2: 0}\r\n",
      "Total People in frame = 2\r\n",
      "Number of people in queue = {1: 1, 2: 0}\r\n",
      "Total People in frame = 2\r\n",
      "Number of people in queue = {1: 1, 2: 0}\r\n",
      "Total People in frame = 2\r\n",
      "Number of people in queue = {1: 1, 2: 0}\r\n",
      "Total People in frame = 3\r\n",
      "Number of people in queue = {1: 1, 2: 0}\r\n",
      "Total People in frame = 3\r\n",
      "Number of people in queue = {1: 1, 2: 1}\r\n",
      "Total People in frame = 4\r\n",
      "Number of people in queue = {1: 1, 2: 1}\r\n",
      "Total People in frame = 3\r\n",
      "Number of people in queue = {1: 1, 2: 1}\r\n",
      "Total People in frame = 3\r\n",
      "Number of people in queue = {1: 1, 2: 1}\r\n",
      "Total People in frame = 3\r\n",
      "Number of people in queue = {1: 1, 2: 1}\r\n",
      "Total People in frame = 3\r\n",
      "Number of people in queue = {1: 1, 2: 1}\r\n",
      "Total People in frame = 3\r\n",
      "Number of people in queue = {1: 1, 2: 1}\r\n",
      "Total People in frame = 3\r\n",
      "Number of people in queue = {1: 1, 2: 1}\r\n",
      "Total People in frame = 3\r\n",
      "Number of people in queue = {1: 1, 2: 1}\r\n",
      "Total People in frame = 3\r\n",
      "Number of people in queue = {1: 1, 2: 1}\r\n",
      "Total People in frame = 3\r\n",
      "Number of people in queue = {1: 1, 2: 1}\r\n",
      "Total People in frame = 3\r\n",
      "Number of people in queue = {1: 1, 2: 1}\r\n",
      "Total People in frame = 3\r\n",
      "Number of people in queue = {1: 1, 2: 1}\r\n",
      "Total People in frame = 3\r\n",
      "Number of people in queue = {1: 1, 2: 1}\r\n",
      "Total People in frame = 3\r\n",
      "Number of people in queue = {1: 1, 2: 1}\r\n",
      "Total People in frame = 3\r\n",
      "Number of people in queue = {1: 1, 2: 1}\r\n",
      "Total People in frame = 3\r\n",
      "Number of people in queue = {1: 1, 2: 1}\r\n",
      "Total People in frame = 3\r\n",
      "Number of people in queue = {1: 1, 2: 1}\r\n",
      "Total People in frame = 3\r\n",
      "Number of people in queue = {1: 1, 2: 1}\r\n",
      "Total People in frame = 3\r\n",
      "Number of people in queue = {1: 1, 2: 1}\r\n",
      "Total People in frame = 3\r\n",
      "Number of people in queue = {1: 1, 2: 1}\r\n",
      "Total People in frame = 3\r\n",
      "Number of people in queue = {1: 1, 2: 1}\r\n",
      "Total People in frame = 3\r\n",
      "Number of people in queue = {1: 1, 2: 1}\r\n",
      "Total People in frame = 3\r\n",
      "Number of people in queue = {1: 1, 2: 1}\r\n",
      "Total People in frame = 3\r\n",
      "Number of people in queue = {1: 1, 2: 1}\r\n",
      "Total People in frame = 3\r\n",
      "Number of people in queue = {1: 1, 2: 1}\r\n",
      "Total People in frame = 3\r\n",
      "Number of people in queue = {1: 1, 2: 1}\r\n",
      "Total People in frame = 3\r\n",
      "Number of people in queue = {1: 1, 2: 1}\r\n",
      "Total People in frame = 4\r\n",
      "Number of people in queue = {1: 1, 2: 1}\r\n",
      "Total People in frame = 3\r\n",
      "Number of people in queue = {1: 1, 2: 1}\r\n",
      "Total People in frame = 4\r\n",
      "Number of people in queue = {1: 1, 2: 1}\r\n",
      "Total People in frame = 4\r\n",
      "Number of people in queue = {1: 1, 2: 1}\r\n",
      "Total People in frame = 4\r\n",
      "Number of people in queue = {1: 1, 2: 1}\r\n",
      "Total People in frame = 4\r\n",
      "Number of people in queue = {1: 1, 2: 1}\r\n",
      "Total People in frame = 3\r\n",
      "Number of people in queue = {1: 1, 2: 1}\r\n",
      "Total People in frame = 3\r\n",
      "Number of people in queue = {1: 1, 2: 1}\r\n",
      "Total People in frame = 3\r\n",
      "Number of people in queue = {1: 1, 2: 1}\r\n",
      "Total People in frame = 3\r\n",
      "Number of people in queue = {1: 1, 2: 1}\r\n",
      "Total People in frame = 3\r\n",
      "Number of people in queue = {1: 1, 2: 1}\r\n",
      "Total People in frame = 3\r\n",
      "Number of people in queue = {1: 1, 2: 1}\r\n",
      "Total People in frame = 3\r\n",
      "Number of people in queue = {1: 1, 2: 1}\r\n",
      "Total People in frame = 4\r\n",
      "Number of people in queue = {1: 1, 2: 1}\r\n",
      "Total People in frame = 3\r\n",
      "Number of people in queue = {1: 1, 2: 1}\r\n",
      "Total People in frame = 4\r\n",
      "Number of people in queue = {1: 1, 2: 1}\r\n",
      "Total People in frame = 4\r\n",
      "Number of people in queue = {1: 1, 2: 1}\r\n",
      "Total People in frame = 4\r\n",
      "Number of people in queue = {1: 1, 2: 1}\r\n",
      "Total People in frame = 4\r\n",
      "Number of people in queue = {1: 1, 2: 1}\r\n",
      "Total People in frame = 3\r\n",
      "Number of people in queue = {1: 1, 2: 1}\r\n",
      "Total People in frame = 2\r\n",
      "Number of people in queue = {1: 1, 2: 1}\r\n",
      "Total People in frame = 3\r\n",
      "Number of people in queue = {1: 1, 2: 1}\r\n",
      "Total People in frame = 2\r\n",
      "Number of people in queue = {1: 1, 2: 0}\r\n",
      "Total People in frame = 2\r\n",
      "Number of people in queue = {1: 1, 2: 0}\r\n",
      "Total People in frame = 2\r\n",
      "Number of people in queue = {1: 1, 2: 0}\r\n",
      "Total People in frame = 2\r\n",
      "Number of people in queue = {1: 1, 2: 0}\r\n",
      "Total People in frame = 2\r\n",
      "Number of people in queue = {1: 1, 2: 0}\r\n",
      "Total People in frame = 0\r\n",
      "Number of people in queue = {1: 0, 2: 0}\r\n",
      "results/\r\n",
      "results/retail/\r\n",
      "results/retail/gpu/\r\n",
      "results/retail/gpu/stats.txt\r\n",
      "results/retail/gpu/output_video.mp4\r\n",
      "stderr.log\r\n"
     ]
    }
   ],
   "source": [
    "!cat stdout.log"
   ]
  },
  {
   "cell_type": "markdown",
   "metadata": {},
   "source": [
    "#### View stderr.log\n",
    "This can be used for debugging"
   ]
  },
  {
   "cell_type": "code",
   "execution_count": 38,
   "metadata": {},
   "outputs": [
    {
     "name": "stdout",
     "output_type": "stream",
     "text": [
      "person_detect.py:70: DeprecationWarning: Reading network using constructor is deprecated. Please, use IECore.read_network() method instead\r\n",
      "  self.model=IENetwork(self.model_structure, self.model_weights)\r\n"
     ]
    }
   ],
   "source": [
    "!cat stderr.log"
   ]
  },
  {
   "cell_type": "code",
   "execution_count": 39,
   "metadata": {},
   "outputs": [
    {
     "name": "stdout",
     "output_type": "stream",
     "text": [
      "4.0\r\n",
      "41.5\r\n",
      "59.23215579986572\r\n"
     ]
    }
   ],
   "source": [
    "!cat results/retail/gpu/stats.txt"
   ]
  },
  {
   "cell_type": "markdown",
   "metadata": {},
   "source": [
    "#### View Output Video\n",
    "Run the cell below to view the output video. If inference was successfully run, you should see a video with bounding boxes drawn around each person detected."
   ]
  },
  {
   "cell_type": "code",
   "execution_count": 40,
   "metadata": {},
   "outputs": [
    {
     "data": {
      "text/html": [
       "<h5>Retail GPU</h5>\n",
       "        <video alt=\"\" controls autoplay muted height=\"480\"><source src=\"results/retail/gpu/output_video.mp4\" type=\"video/mp4\" /></video>\n",
       "        "
      ],
      "text/plain": [
       "<IPython.core.display.HTML object>"
      ]
     },
     "execution_count": 40,
     "metadata": {},
     "output_type": "execute_result"
    }
   ],
   "source": [
    "import videoHtml\n",
    "\n",
    "videoHtml.videoHTML('Retail GPU', ['results/retail/gpu/output_video.mp4'])"
   ]
  },
  {
   "cell_type": "markdown",
   "metadata": {},
   "source": [
    "## Step 1.3: Submit to an Edge Compute Node with an Intel® Neural Compute Stick 2\n",
    "In the cell below, write a script to submit a job to an <a \n",
    "    href=\"https://software.intel.com/en-us/iot/hardware/iei-tank-dev-kit-core\">IEI \n",
    "    Tank 870-Q170</a> edge node with an <a href=\"https://ark.intel.com/products/88186/Intel-Core-i5-6500TE-Processor-6M-Cache-up-to-3-30-GHz-\">Intel Core i5-6500te CPU</a>. The inference workload should run on an <a \n",
    "    href=\"https://software.intel.com/en-us/neural-compute-stick\">Intel Neural Compute Stick 2</a> installed in this  node."
   ]
  },
  {
   "cell_type": "code",
   "execution_count": 41,
   "metadata": {},
   "outputs": [
    {
     "data": {
      "text/plain": [
       "'MYRIAD /data/models/intel/person-detection-retail-0013/FP16/person-detection-retail-0013 /data/resources/retail.mp4 /data/queue_param/retail.npy /output/results/retail/vpu 2'"
      ]
     },
     "execution_count": 41,
     "metadata": {},
     "output_type": "execute_result"
    }
   ],
   "source": [
    "# Defining the following parameters for running inference on the device:\n",
    "device = \"MYRIAD\"\n",
    "model_path = '/data/models/intel/person-detection-retail-0013/FP16/person-detection-retail-0013'\n",
    "video_path = '/data/resources/retail.mp4'\n",
    "queue = '/data/queue_param/retail.npy'\n",
    "output_path = \"/output/results/retail/vpu\"\n",
    "max_people = 2\n",
    "\n",
    "# Running on VPU as it was organised in queue_job.sh  - DEVICE=$1 MODEL=$2 VIDEO=$3 QUEUE=$4 OUTPUT=$5 PEOPLE=$6\n",
    "variable = '{} {} {} {} {} {}'.format(device, model_path, video_path, queue, output_path, max_people)\n",
    "job_name = \"retail_vpu\"\n",
    "variable"
   ]
  },
  {
   "cell_type": "code",
   "execution_count": 42,
   "metadata": {},
   "outputs": [
    {
     "name": "stdout",
     "output_type": "stream",
     "text": [
      "C8pVzRkhAHZk26J7YX39wjheRY48lts5\n"
     ]
    }
   ],
   "source": [
    "#Submit job to the queue\n",
    "vpu_job_id =  !qsub queue_job.sh -d . -l nodes=1:tank-870:i5-6500te:intel-ncs2 -F \"{variable}\" -N \"{job_name}\"\n",
    "\n",
    "print(vpu_job_id[0])"
   ]
  },
  {
   "cell_type": "markdown",
   "metadata": {},
   "source": [
    "### Check Job Status\n",
    "\n",
    "To check on the job that was submitted, use `liveQStat` to check the status of the job.\n",
    "\n",
    "Column `S` shows the state of your running jobs.\n",
    "\n",
    "For example:\n",
    "- If `JOB ID`is in Q state, it is in the queue waiting for available resources.\n",
    "- If `JOB ID` is in R state, it is running."
   ]
  },
  {
   "cell_type": "code",
   "execution_count": 43,
   "metadata": {},
   "outputs": [],
   "source": [
    "import liveQStat\n",
    "liveQStat.liveQStat()"
   ]
  },
  {
   "cell_type": "markdown",
   "metadata": {},
   "source": [
    "#### Get Results\n",
    "\n",
    "Run the next cell to retrieve your job's results."
   ]
  },
  {
   "cell_type": "code",
   "execution_count": 44,
   "metadata": {},
   "outputs": [
    {
     "name": "stdout",
     "output_type": "stream",
     "text": [
      "getResults() is blocking until results of the job (id:C8pVzRkhAHZk26J7YX39wjheRY48lts5) are ready.\n",
      "Please wait..........................Success!\n",
      "output.tgz was downloaded in the same folder as this notebook.\n"
     ]
    }
   ],
   "source": [
    "import get_results\n",
    "get_results.getResults(vpu_job_id[0], filename='output.tgz', blocking=True)"
   ]
  },
  {
   "cell_type": "markdown",
   "metadata": {},
   "source": [
    "#### Unpack your output files and view stdout.log"
   ]
  },
  {
   "cell_type": "code",
   "execution_count": 45,
   "metadata": {},
   "outputs": [],
   "source": [
    "!tar zxf output.tgz"
   ]
  },
  {
   "cell_type": "code",
   "execution_count": 46,
   "metadata": {},
   "outputs": [
    {
     "name": "stdout",
     "output_type": "stream",
     "text": [
      "Total People in frame = 4\r\n",
      "Number of people in queue = {1: 1, 2: 1}\r\n",
      "Total People in frame = 4\r\n",
      "Number of people in queue = {1: 1, 2: 1}\r\n",
      "Total People in frame = 4\r\n",
      "Number of people in queue = {1: 1, 2: 1}\r\n",
      "Total People in frame = 4\r\n",
      "Number of people in queue = {1: 1, 2: 1}\r\n",
      "Total People in frame = 4\r\n",
      "Number of people in queue = {1: 1, 2: 1}\r\n",
      "Total People in frame = 4\r\n",
      "Number of people in queue = {1: 1, 2: 1}\r\n",
      "Total People in frame = 4\r\n",
      "Number of people in queue = {1: 1, 2: 1}\r\n",
      "Total People in frame = 4\r\n",
      "Number of people in queue = {1: 1, 2: 1}\r\n",
      "Total People in frame = 4\r\n",
      "Number of people in queue = {1: 1, 2: 1}\r\n",
      "Total People in frame = 4\r\n",
      "Number of people in queue = {1: 1, 2: 1}\r\n",
      "Total People in frame = 4\r\n",
      "Number of people in queue = {1: 1, 2: 1}\r\n",
      "Total People in frame = 4\r\n",
      "Number of people in queue = {1: 1, 2: 1}\r\n",
      "Total People in frame = 3\r\n",
      "Number of people in queue = {1: 1, 2: 1}\r\n",
      "Total People in frame = 3\r\n",
      "Number of people in queue = {1: 1, 2: 1}\r\n",
      "Total People in frame = 3\r\n",
      "Number of people in queue = {1: 1, 2: 1}\r\n",
      "Total People in frame = 3\r\n",
      "Number of people in queue = {1: 1, 2: 1}\r\n",
      "Total People in frame = 3\r\n",
      "Number of people in queue = {1: 1, 2: 1}\r\n",
      "Total People in frame = 3\r\n",
      "Number of people in queue = {1: 1, 2: 1}\r\n",
      "Total People in frame = 3\r\n",
      "Number of people in queue = {1: 1, 2: 1}\r\n",
      "Total People in frame = 4\r\n",
      "Number of people in queue = {1: 1, 2: 1}\r\n",
      "Total People in frame = 3\r\n",
      "Number of people in queue = {1: 1, 2: 1}\r\n",
      "Total People in frame = 4\r\n",
      "Number of people in queue = {1: 2, 2: 1}\r\n",
      "Total People in frame = 5\r\n",
      "Number of people in queue = {1: 2, 2: 1}\r\n",
      "Total People in frame = 5\r\n",
      "Number of people in queue = {1: 2, 2: 1}\r\n",
      "Total People in frame = 5\r\n",
      "Number of people in queue = {1: 2, 2: 1}\r\n",
      "Total People in frame = 5\r\n",
      "Number of people in queue = {1: 2, 2: 1}\r\n",
      "Total People in frame = 4\r\n",
      "Number of people in queue = {1: 1, 2: 1}\r\n",
      "Total People in frame = 5\r\n",
      "Number of people in queue = {1: 2, 2: 1}\r\n",
      "Total People in frame = 5\r\n",
      "Number of people in queue = {1: 2, 2: 1}\r\n",
      "Total People in frame = 5\r\n",
      "Number of people in queue = {1: 2, 2: 1}\r\n",
      "Total People in frame = 5\r\n",
      "Number of people in queue = {1: 2, 2: 1}\r\n",
      "Total People in frame = 5\r\n",
      "Number of people in queue = {1: 2, 2: 1}\r\n",
      "Total People in frame = 5\r\n",
      "Number of people in queue = {1: 2, 2: 1}\r\n",
      "Total People in frame = 5\r\n",
      "Number of people in queue = {1: 2, 2: 1}\r\n",
      "Total People in frame = 5\r\n",
      "Number of people in queue = {1: 2, 2: 1}\r\n",
      "Total People in frame = 6\r\n",
      "Number of people in queue = {1: 2, 2: 1}\r\n",
      "Total People in frame = 5\r\n",
      "Number of people in queue = {1: 2, 2: 1}\r\n",
      "Total People in frame = 6\r\n",
      "Number of people in queue = {1: 2, 2: 1}\r\n",
      "Total People in frame = 6\r\n",
      "Number of people in queue = {1: 2, 2: 1}\r\n",
      "Total People in frame = 6\r\n",
      "Number of people in queue = {1: 2, 2: 1}\r\n",
      "Total People in frame = 6\r\n",
      "Number of people in queue = {1: 2, 2: 1}\r\n",
      "Total People in frame = 6\r\n",
      "Number of people in queue = {1: 2, 2: 1}\r\n",
      "Total People in frame = 6\r\n",
      "Number of people in queue = {1: 2, 2: 1}\r\n",
      "Total People in frame = 6\r\n",
      "Number of people in queue = {1: 2, 2: 1}\r\n",
      "Total People in frame = 5\r\n",
      "Number of people in queue = {1: 2, 2: 1}\r\n",
      "Total People in frame = 5\r\n",
      "Number of people in queue = {1: 2, 2: 1}\r\n",
      "Total People in frame = 5\r\n",
      "Number of people in queue = {1: 2, 2: 1}\r\n",
      "Total People in frame = 6\r\n",
      "Number of people in queue = {1: 2, 2: 1}\r\n",
      "Total People in frame = 5\r\n",
      "Number of people in queue = {1: 2, 2: 1}\r\n",
      "Total People in frame = 5\r\n",
      "Number of people in queue = {1: 2, 2: 1}\r\n",
      "Total People in frame = 5\r\n",
      "Number of people in queue = {1: 2, 2: 1}\r\n",
      "Total People in frame = 4\r\n",
      "Number of people in queue = {1: 2, 2: 1}\r\n",
      "Total People in frame = 4\r\n",
      "Number of people in queue = {1: 2, 2: 1}\r\n",
      "Total People in frame = 3\r\n",
      "Number of people in queue = {1: 1, 2: 1}\r\n",
      "Total People in frame = 3\r\n",
      "Number of people in queue = {1: 1, 2: 1}\r\n",
      "Total People in frame = 4\r\n",
      "Number of people in queue = {1: 2, 2: 1}\r\n",
      "Total People in frame = 4\r\n",
      "Number of people in queue = {1: 2, 2: 1}\r\n",
      "Total People in frame = 4\r\n",
      "Number of people in queue = {1: 2, 2: 1}\r\n",
      "Total People in frame = 4\r\n",
      "Number of people in queue = {1: 2, 2: 1}\r\n",
      "Total People in frame = 4\r\n",
      "Number of people in queue = {1: 2, 2: 1}\r\n",
      "Total People in frame = 4\r\n",
      "Number of people in queue = {1: 2, 2: 1}\r\n",
      "Total People in frame = 2\r\n",
      "Number of people in queue = {1: 1, 2: 1}\r\n",
      "Total People in frame = 3\r\n",
      "Number of people in queue = {1: 1, 2: 1}\r\n",
      "Total People in frame = 4\r\n",
      "Number of people in queue = {1: 2, 2: 1}\r\n",
      "Total People in frame = 4\r\n",
      "Number of people in queue = {1: 2, 2: 1}\r\n",
      "Total People in frame = 3\r\n",
      "Number of people in queue = {1: 2, 2: 1}\r\n",
      "Total People in frame = 3\r\n",
      "Number of people in queue = {1: 2, 2: 1}\r\n",
      "Total People in frame = 3\r\n",
      "Number of people in queue = {1: 2, 2: 1}\r\n",
      "Total People in frame = 3\r\n",
      "Number of people in queue = {1: 2, 2: 1}\r\n",
      "Total People in frame = 3\r\n",
      "Number of people in queue = {1: 2, 2: 1}\r\n",
      "Total People in frame = 3\r\n",
      "Number of people in queue = {1: 2, 2: 1}\r\n",
      "Total People in frame = 3\r\n",
      "Number of people in queue = {1: 2, 2: 1}\r\n",
      "Total People in frame = 4\r\n",
      "Number of people in queue = {1: 2, 2: 1}\r\n",
      "Total People in frame = 4\r\n",
      "Number of people in queue = {1: 2, 2: 1}\r\n",
      "Total People in frame = 4\r\n",
      "Number of people in queue = {1: 2, 2: 1}\r\n",
      "Total People in frame = 3\r\n",
      "Number of people in queue = {1: 2, 2: 1}\r\n",
      "Total People in frame = 3\r\n",
      "Number of people in queue = {1: 2, 2: 1}\r\n",
      "Total People in frame = 3\r\n",
      "Number of people in queue = {1: 2, 2: 1}\r\n",
      "Total People in frame = 3\r\n",
      "Number of people in queue = {1: 1, 2: 1}\r\n",
      "Total People in frame = 3\r\n",
      "Number of people in queue = {1: 1, 2: 1}\r\n",
      "Total People in frame = 4\r\n",
      "Number of people in queue = {1: 1, 2: 1}\r\n",
      "Total People in frame = 3\r\n",
      "Number of people in queue = {1: 1, 2: 1}\r\n",
      "Total People in frame = 3\r\n",
      "Number of people in queue = {1: 1, 2: 1}\r\n",
      "Total People in frame = 4\r\n",
      "Number of people in queue = {1: 1, 2: 1}\r\n",
      "Total People in frame = 4\r\n",
      "Number of people in queue = {1: 1, 2: 1}\r\n",
      "Total People in frame = 4\r\n",
      "Number of people in queue = {1: 1, 2: 1}\r\n",
      "Total People in frame = 4\r\n",
      "Number of people in queue = {1: 1, 2: 1}\r\n",
      "Total People in frame = 4\r\n",
      "Number of people in queue = {1: 1, 2: 1}\r\n",
      "Total People in frame = 4\r\n",
      "Number of people in queue = {1: 1, 2: 1}\r\n",
      "Total People in frame = 3\r\n",
      "Number of people in queue = {1: 1, 2: 0}\r\n",
      "Total People in frame = 3\r\n",
      "Number of people in queue = {1: 1, 2: 0}\r\n",
      "Total People in frame = 2\r\n",
      "Number of people in queue = {1: 1, 2: 0}\r\n",
      "Total People in frame = 2\r\n",
      "Number of people in queue = {1: 1, 2: 0}\r\n",
      "Total People in frame = 2\r\n",
      "Number of people in queue = {1: 1, 2: 0}\r\n",
      "Total People in frame = 2\r\n",
      "Number of people in queue = {1: 1, 2: 0}\r\n",
      "Total People in frame = 2\r\n",
      "Number of people in queue = {1: 1, 2: 0}\r\n",
      "Total People in frame = 2\r\n",
      "Number of people in queue = {1: 1, 2: 0}\r\n",
      "Total People in frame = 2\r\n",
      "Number of people in queue = {1: 1, 2: 0}\r\n",
      "Total People in frame = 2\r\n",
      "Number of people in queue = {1: 1, 2: 0}\r\n",
      "Total People in frame = 2\r\n",
      "Number of people in queue = {1: 1, 2: 0}\r\n",
      "Total People in frame = 2\r\n",
      "Number of people in queue = {1: 1, 2: 0}\r\n",
      "Total People in frame = 2\r\n",
      "Number of people in queue = {1: 1, 2: 0}\r\n",
      "Total People in frame = 2\r\n",
      "Number of people in queue = {1: 1, 2: 0}\r\n",
      "Total People in frame = 2\r\n",
      "Number of people in queue = {1: 1, 2: 0}\r\n",
      "Total People in frame = 3\r\n",
      "Number of people in queue = {1: 1, 2: 0}\r\n",
      "Total People in frame = 3\r\n",
      "Number of people in queue = {1: 1, 2: 0}\r\n",
      "Total People in frame = 2\r\n",
      "Number of people in queue = {1: 1, 2: 0}\r\n",
      "Total People in frame = 2\r\n",
      "Number of people in queue = {1: 1, 2: 0}\r\n",
      "Total People in frame = 2\r\n",
      "Number of people in queue = {1: 1, 2: 0}\r\n",
      "Total People in frame = 3\r\n",
      "Number of people in queue = {1: 1, 2: 0}\r\n",
      "Total People in frame = 3\r\n",
      "Number of people in queue = {1: 1, 2: 1}\r\n",
      "Total People in frame = 4\r\n",
      "Number of people in queue = {1: 1, 2: 1}\r\n",
      "Total People in frame = 3\r\n",
      "Number of people in queue = {1: 1, 2: 1}\r\n",
      "Total People in frame = 3\r\n",
      "Number of people in queue = {1: 1, 2: 1}\r\n",
      "Total People in frame = 3\r\n",
      "Number of people in queue = {1: 1, 2: 1}\r\n",
      "Total People in frame = 3\r\n",
      "Number of people in queue = {1: 1, 2: 1}\r\n",
      "Total People in frame = 3\r\n",
      "Number of people in queue = {1: 1, 2: 1}\r\n",
      "Total People in frame = 3\r\n",
      "Number of people in queue = {1: 1, 2: 1}\r\n",
      "Total People in frame = 3\r\n",
      "Number of people in queue = {1: 1, 2: 1}\r\n",
      "Total People in frame = 3\r\n",
      "Number of people in queue = {1: 1, 2: 1}\r\n",
      "Total People in frame = 3\r\n",
      "Number of people in queue = {1: 1, 2: 1}\r\n",
      "Total People in frame = 3\r\n",
      "Number of people in queue = {1: 1, 2: 1}\r\n",
      "Total People in frame = 3\r\n",
      "Number of people in queue = {1: 1, 2: 1}\r\n",
      "Total People in frame = 3\r\n",
      "Number of people in queue = {1: 1, 2: 1}\r\n",
      "Total People in frame = 3\r\n",
      "Number of people in queue = {1: 1, 2: 1}\r\n",
      "Total People in frame = 3\r\n",
      "Number of people in queue = {1: 1, 2: 1}\r\n",
      "Total People in frame = 3\r\n",
      "Number of people in queue = {1: 1, 2: 1}\r\n",
      "Total People in frame = 3\r\n",
      "Number of people in queue = {1: 1, 2: 1}\r\n",
      "Total People in frame = 3\r\n",
      "Number of people in queue = {1: 1, 2: 1}\r\n",
      "Total People in frame = 3\r\n",
      "Number of people in queue = {1: 1, 2: 1}\r\n",
      "Total People in frame = 3\r\n",
      "Number of people in queue = {1: 1, 2: 1}\r\n",
      "Total People in frame = 3\r\n",
      "Number of people in queue = {1: 1, 2: 1}\r\n",
      "Total People in frame = 3\r\n",
      "Number of people in queue = {1: 1, 2: 1}\r\n",
      "Total People in frame = 3\r\n",
      "Number of people in queue = {1: 1, 2: 1}\r\n",
      "Total People in frame = 3\r\n",
      "Number of people in queue = {1: 1, 2: 1}\r\n",
      "Total People in frame = 3\r\n",
      "Number of people in queue = {1: 1, 2: 1}\r\n",
      "Total People in frame = 3\r\n",
      "Number of people in queue = {1: 1, 2: 1}\r\n",
      "Total People in frame = 3\r\n",
      "Number of people in queue = {1: 1, 2: 1}\r\n",
      "Total People in frame = 3\r\n",
      "Number of people in queue = {1: 1, 2: 1}\r\n",
      "Total People in frame = 3\r\n",
      "Number of people in queue = {1: 1, 2: 1}\r\n",
      "Total People in frame = 4\r\n",
      "Number of people in queue = {1: 1, 2: 1}\r\n",
      "Total People in frame = 4\r\n",
      "Number of people in queue = {1: 1, 2: 1}\r\n",
      "Total People in frame = 4\r\n",
      "Number of people in queue = {1: 1, 2: 1}\r\n",
      "Total People in frame = 3\r\n",
      "Number of people in queue = {1: 1, 2: 1}\r\n",
      "Total People in frame = 3\r\n",
      "Number of people in queue = {1: 1, 2: 1}\r\n",
      "Total People in frame = 3\r\n",
      "Number of people in queue = {1: 1, 2: 1}\r\n",
      "Total People in frame = 3\r\n",
      "Number of people in queue = {1: 1, 2: 1}\r\n",
      "Total People in frame = 3\r\n",
      "Number of people in queue = {1: 1, 2: 1}\r\n",
      "Total People in frame = 3\r\n",
      "Number of people in queue = {1: 1, 2: 1}\r\n",
      "Total People in frame = 3\r\n",
      "Number of people in queue = {1: 1, 2: 1}\r\n",
      "Total People in frame = 3\r\n",
      "Number of people in queue = {1: 1, 2: 1}\r\n",
      "Total People in frame = 4\r\n",
      "Number of people in queue = {1: 1, 2: 1}\r\n",
      "Total People in frame = 3\r\n",
      "Number of people in queue = {1: 1, 2: 1}\r\n",
      "Total People in frame = 4\r\n",
      "Number of people in queue = {1: 1, 2: 1}\r\n",
      "Total People in frame = 4\r\n",
      "Number of people in queue = {1: 1, 2: 1}\r\n",
      "Total People in frame = 3\r\n",
      "Number of people in queue = {1: 1, 2: 1}\r\n",
      "Total People in frame = 4\r\n",
      "Number of people in queue = {1: 1, 2: 1}\r\n",
      "Total People in frame = 3\r\n",
      "Number of people in queue = {1: 1, 2: 1}\r\n",
      "Total People in frame = 2\r\n",
      "Number of people in queue = {1: 1, 2: 1}\r\n",
      "Total People in frame = 3\r\n",
      "Number of people in queue = {1: 1, 2: 1}\r\n",
      "Total People in frame = 2\r\n",
      "Number of people in queue = {1: 1, 2: 0}\r\n",
      "Total People in frame = 2\r\n",
      "Number of people in queue = {1: 1, 2: 0}\r\n",
      "Total People in frame = 2\r\n",
      "Number of people in queue = {1: 1, 2: 0}\r\n",
      "Total People in frame = 2\r\n",
      "Number of people in queue = {1: 1, 2: 0}\r\n",
      "Total People in frame = 2\r\n",
      "Number of people in queue = {1: 1, 2: 0}\r\n",
      "Total People in frame = 0\r\n",
      "Number of people in queue = {1: 0, 2: 0}\r\n",
      "results/\r\n",
      "results/retail/\r\n",
      "results/retail/vpu/\r\n",
      "results/retail/vpu/stats.txt\r\n",
      "results/retail/vpu/output_video.mp4\r\n",
      "stderr.log\r\n"
     ]
    }
   ],
   "source": [
    "!cat stdout.log"
   ]
  },
  {
   "cell_type": "markdown",
   "metadata": {},
   "source": [
    "#### View stderr.log\n",
    "This can be used for debugging"
   ]
  },
  {
   "cell_type": "code",
   "execution_count": 47,
   "metadata": {},
   "outputs": [
    {
     "name": "stdout",
     "output_type": "stream",
     "text": [
      "person_detect.py:70: DeprecationWarning: Reading network using constructor is deprecated. Please, use IECore.read_network() method instead\r\n",
      "  self.model=IENetwork(self.model_structure, self.model_weights)\r\n"
     ]
    }
   ],
   "source": [
    "!cat stderr.log"
   ]
  },
  {
   "cell_type": "code",
   "execution_count": 48,
   "metadata": {},
   "outputs": [
    {
     "name": "stdout",
     "output_type": "stream",
     "text": [
      "24.9\r\n",
      "6.666666666666667\r\n",
      "2.9542083740234375\r\n"
     ]
    }
   ],
   "source": [
    "!cat results/retail/vpu/stats.txt"
   ]
  },
  {
   "cell_type": "markdown",
   "metadata": {},
   "source": [
    "#### View Output Video\n",
    "Run the cell below to view the output video. If inference was successfully run, you should see a video with bounding boxes drawn around each person detected."
   ]
  },
  {
   "cell_type": "code",
   "execution_count": 49,
   "metadata": {},
   "outputs": [
    {
     "data": {
      "text/html": [
       "<h5>Retail VPU</h5>\n",
       "        <video alt=\"\" controls autoplay muted height=\"480\"><source src=\"results/retail/vpu/output_video.mp4\" type=\"video/mp4\" /></video>\n",
       "        "
      ],
      "text/plain": [
       "<IPython.core.display.HTML object>"
      ]
     },
     "execution_count": 49,
     "metadata": {},
     "output_type": "execute_result"
    }
   ],
   "source": [
    "import videoHtml\n",
    "\n",
    "videoHtml.videoHTML('Retail VPU', ['results/retail/vpu/output_video.mp4'])"
   ]
  },
  {
   "cell_type": "markdown",
   "metadata": {},
   "source": [
    "## Step 1.4: Submit to an Edge Compute Node with IEI Mustang-F100-A10\n",
    "In the cell below, write a script to submit a job to an <a \n",
    "    href=\"https://software.intel.com/en-us/iot/hardware/iei-tank-dev-kit-core\">IEI \n",
    "    Tank 870-Q170</a> edge node with an <a href=\"https://ark.intel.com/products/88186/Intel-Core-i5-6500TE-Processor-6M-Cache-up-to-3-30-GHz-\">Intel Core™ i5-6500te CPU</a> . The inference workload will run on the <a href=\"https://www.ieiworld.com/mustang-f100/en/\"> IEI Mustang-F100-A10 </a> FPGA card installed in this node."
   ]
  },
  {
   "cell_type": "code",
   "execution_count": 50,
   "metadata": {},
   "outputs": [
    {
     "data": {
      "text/plain": [
       "'HETERO:FPGA,CPU /data/models/intel/person-detection-retail-0013/FP16/person-detection-retail-0013 /data/resources/retail.mp4 /data/queue_param/retail.npy /output/results/retail/fpga 2'"
      ]
     },
     "execution_count": 50,
     "metadata": {},
     "output_type": "execute_result"
    }
   ],
   "source": [
    "# Defining the following parameters for running inference on the device:\n",
    "device = \"HETERO:FPGA,CPU\"\n",
    "model_path = '/data/models/intel/person-detection-retail-0013/FP16/person-detection-retail-0013'\n",
    "video_path = '/data/resources/retail.mp4'\n",
    "queue = '/data/queue_param/retail.npy'\n",
    "output_path = \"/output/results/retail/fpga\"\n",
    "max_people = 2\n",
    "\n",
    "# Running on FPGA as it was organised in queue_job.sh  - DEVICE=$1 MODEL=$2 VIDEO=$3 QUEUE=$4 OUTPUT=$5 PEOPLE=$6\n",
    "variable = '{} {} {} {} {} {}'.format(device, model_path, video_path, queue, output_path, max_people)\n",
    "job_name = \"retail_fpga\"\n",
    "variable"
   ]
  },
  {
   "cell_type": "code",
   "execution_count": 51,
   "metadata": {},
   "outputs": [
    {
     "name": "stdout",
     "output_type": "stream",
     "text": [
      "ldRS0GabRtf5iigEtOumkNQVQIQpLc7Y\n"
     ]
    }
   ],
   "source": [
    "#Submit job to the queue\n",
    "fpga_job_id =  !qsub queue_job.sh -d . -l nodes=1:tank-870:i5-6500te:iei-mustang-f100-a10 -F \"{variable}\" -N \"{job_name}\"\n",
    "\n",
    "print(fpga_job_id[0])"
   ]
  },
  {
   "cell_type": "markdown",
   "metadata": {},
   "source": [
    "### Check Job Status\n",
    "\n",
    "To check on the job that was submitted, use `liveQStat` to check the status of the job.\n",
    "\n",
    "Column `S` shows the state of your running jobs.\n",
    "\n",
    "For example:\n",
    "- If `JOB ID`is in Q state, it is in the queue waiting for available resources.\n",
    "- If `JOB ID` is in R state, it is running."
   ]
  },
  {
   "cell_type": "code",
   "execution_count": 52,
   "metadata": {},
   "outputs": [],
   "source": [
    "import liveQStat\n",
    "liveQStat.liveQStat()"
   ]
  },
  {
   "cell_type": "markdown",
   "metadata": {},
   "source": [
    "#### Get Results\n",
    "\n",
    "Run the next cell to retrieve your job's results."
   ]
  },
  {
   "cell_type": "code",
   "execution_count": 53,
   "metadata": {},
   "outputs": [
    {
     "name": "stdout",
     "output_type": "stream",
     "text": [
      "getResults() is blocking until results of the job (id:ldRS0GabRtf5iigEtOumkNQVQIQpLc7Y) are ready.\n",
      "Please wait........................Success!\n",
      "output.tgz was downloaded in the same folder as this notebook.\n"
     ]
    }
   ],
   "source": [
    "import get_results\n",
    "get_results.getResults(fpga_job_id[0], filename='output.tgz', blocking=True)"
   ]
  },
  {
   "cell_type": "markdown",
   "metadata": {},
   "source": [
    "#### Unpack your output files and view stdout.log"
   ]
  },
  {
   "cell_type": "code",
   "execution_count": 54,
   "metadata": {},
   "outputs": [],
   "source": [
    "!tar zxf output.tgz"
   ]
  },
  {
   "cell_type": "code",
   "execution_count": 55,
   "metadata": {},
   "outputs": [
    {
     "name": "stdout",
     "output_type": "stream",
     "text": [
      "INTELFPGAOCLSDKROOT is not set\r\n",
      "Using script's current directory (/opt/altera/aocl-pro-rte/aclrte-linux64)\r\n",
      "\r\n",
      "aoc was not found, but aocl was found. Assuming only RTE is installed.\r\n",
      "\r\n",
      "AOCL_BOARD_PACKAGE_ROOT is set to /opt/intel/openvino/bitstreams/a10_vision_design_sg2_bitstreams/BSP/a10_1150_sg2. Using that.\r\n",
      "Adding /opt/altera/aocl-pro-rte/aclrte-linux64/bin to PATH\r\n",
      "Adding /opt/altera/aocl-pro-rte/aclrte-linux64/linux64/lib to LD_LIBRARY_PATH\r\n",
      "Adding /opt/altera/aocl-pro-rte/aclrte-linux64/host/linux64/lib to LD_LIBRARY_PATH\r\n",
      "Adding /opt/intel/openvino/bitstreams/a10_vision_design_sg2_bitstreams/BSP/a10_1150_sg2/linux64/lib to LD_LIBRARY_PATH\r\n",
      "aocl program: Running program from /opt/intel/openvino/bitstreams/a10_vision_design_sg2_bitstreams/BSP/a10_1150_sg2/linux64/libexec\r\n",
      "Programming device: a10gx_2ddr : Intel Vision Accelerator Design with Intel Arria 10 FPGA (acla10_1150_sg20)\r\n",
      "Program succeed. \r\n",
      "Total People in frame = 4\r\n",
      "Number of people in queue = {1: 1, 2: 1}\r\n",
      "Total People in frame = 4\r\n",
      "Number of people in queue = {1: 1, 2: 1}\r\n",
      "Total People in frame = 5\r\n",
      "Number of people in queue = {1: 1, 2: 1}\r\n",
      "Total People in frame = 4\r\n",
      "Number of people in queue = {1: 1, 2: 1}\r\n",
      "Total People in frame = 4\r\n",
      "Number of people in queue = {1: 1, 2: 1}\r\n",
      "Total People in frame = 4\r\n",
      "Number of people in queue = {1: 1, 2: 1}\r\n",
      "Total People in frame = 4\r\n",
      "Number of people in queue = {1: 1, 2: 1}\r\n",
      "Total People in frame = 4\r\n",
      "Number of people in queue = {1: 1, 2: 1}\r\n",
      "Total People in frame = 4\r\n",
      "Number of people in queue = {1: 1, 2: 1}\r\n",
      "Total People in frame = 4\r\n",
      "Number of people in queue = {1: 1, 2: 1}\r\n",
      "Total People in frame = 4\r\n",
      "Number of people in queue = {1: 1, 2: 1}\r\n",
      "Total People in frame = 4\r\n",
      "Number of people in queue = {1: 1, 2: 1}\r\n",
      "Total People in frame = 4\r\n",
      "Number of people in queue = {1: 1, 2: 1}\r\n",
      "Total People in frame = 3\r\n",
      "Number of people in queue = {1: 1, 2: 1}\r\n",
      "Total People in frame = 3\r\n",
      "Number of people in queue = {1: 1, 2: 1}\r\n",
      "Total People in frame = 3\r\n",
      "Number of people in queue = {1: 1, 2: 1}\r\n",
      "Total People in frame = 3\r\n",
      "Number of people in queue = {1: 1, 2: 1}\r\n",
      "Total People in frame = 3\r\n",
      "Number of people in queue = {1: 1, 2: 1}\r\n",
      "Total People in frame = 3\r\n",
      "Number of people in queue = {1: 1, 2: 1}\r\n",
      "Total People in frame = 4\r\n",
      "Number of people in queue = {1: 1, 2: 1}\r\n",
      "Total People in frame = 4\r\n",
      "Number of people in queue = {1: 1, 2: 1}\r\n",
      "Total People in frame = 4\r\n",
      "Number of people in queue = {1: 2, 2: 1}\r\n",
      "Total People in frame = 5\r\n",
      "Number of people in queue = {1: 2, 2: 1}\r\n",
      "Total People in frame = 5\r\n",
      "Number of people in queue = {1: 2, 2: 1}\r\n",
      "Total People in frame = 5\r\n",
      "Number of people in queue = {1: 2, 2: 1}\r\n",
      "Total People in frame = 5\r\n",
      "Number of people in queue = {1: 2, 2: 1}\r\n",
      "Total People in frame = 4\r\n",
      "Number of people in queue = {1: 1, 2: 1}\r\n",
      "Total People in frame = 5\r\n",
      "Number of people in queue = {1: 2, 2: 1}\r\n",
      "Total People in frame = 5\r\n",
      "Number of people in queue = {1: 2, 2: 1}\r\n",
      "Total People in frame = 5\r\n",
      "Number of people in queue = {1: 2, 2: 1}\r\n",
      "Total People in frame = 5\r\n",
      "Number of people in queue = {1: 2, 2: 1}\r\n",
      "Total People in frame = 5\r\n",
      "Number of people in queue = {1: 2, 2: 1}\r\n",
      "Total People in frame = 5\r\n",
      "Number of people in queue = {1: 2, 2: 1}\r\n",
      "Total People in frame = 5\r\n",
      "Number of people in queue = {1: 2, 2: 1}\r\n",
      "Total People in frame = 5\r\n",
      "Number of people in queue = {1: 2, 2: 1}\r\n",
      "Total People in frame = 6\r\n",
      "Number of people in queue = {1: 2, 2: 1}\r\n",
      "Total People in frame = 5\r\n",
      "Number of people in queue = {1: 2, 2: 1}\r\n",
      "Total People in frame = 6\r\n",
      "Number of people in queue = {1: 2, 2: 1}\r\n",
      "Total People in frame = 6\r\n",
      "Number of people in queue = {1: 2, 2: 1}\r\n",
      "Total People in frame = 6\r\n",
      "Number of people in queue = {1: 2, 2: 1}\r\n",
      "Total People in frame = 6\r\n",
      "Number of people in queue = {1: 2, 2: 1}\r\n",
      "Total People in frame = 6\r\n",
      "Number of people in queue = {1: 2, 2: 1}\r\n",
      "Total People in frame = 6\r\n",
      "Number of people in queue = {1: 2, 2: 1}\r\n",
      "Total People in frame = 6\r\n",
      "Number of people in queue = {1: 2, 2: 1}\r\n",
      "Total People in frame = 6\r\n",
      "Number of people in queue = {1: 2, 2: 1}\r\n",
      "Total People in frame = 5\r\n",
      "Number of people in queue = {1: 2, 2: 1}\r\n",
      "Total People in frame = 5\r\n",
      "Number of people in queue = {1: 2, 2: 1}\r\n",
      "Total People in frame = 6\r\n",
      "Number of people in queue = {1: 2, 2: 1}\r\n",
      "Total People in frame = 6\r\n",
      "Number of people in queue = {1: 2, 2: 1}\r\n",
      "Total People in frame = 6\r\n",
      "Number of people in queue = {1: 2, 2: 1}\r\n",
      "Total People in frame = 5\r\n",
      "Number of people in queue = {1: 2, 2: 1}\r\n",
      "Total People in frame = 4\r\n",
      "Number of people in queue = {1: 2, 2: 1}\r\n",
      "Total People in frame = 4\r\n",
      "Number of people in queue = {1: 2, 2: 1}\r\n",
      "Total People in frame = 3\r\n",
      "Number of people in queue = {1: 1, 2: 1}\r\n",
      "Total People in frame = 3\r\n",
      "Number of people in queue = {1: 1, 2: 1}\r\n",
      "Total People in frame = 4\r\n",
      "Number of people in queue = {1: 2, 2: 1}\r\n",
      "Total People in frame = 4\r\n",
      "Number of people in queue = {1: 2, 2: 1}\r\n",
      "Total People in frame = 4\r\n",
      "Number of people in queue = {1: 2, 2: 1}\r\n",
      "Total People in frame = 4\r\n",
      "Number of people in queue = {1: 2, 2: 1}\r\n",
      "Total People in frame = 4\r\n",
      "Number of people in queue = {1: 2, 2: 1}\r\n",
      "Total People in frame = 4\r\n",
      "Number of people in queue = {1: 2, 2: 1}\r\n",
      "Total People in frame = 2\r\n",
      "Number of people in queue = {1: 1, 2: 1}\r\n",
      "Total People in frame = 3\r\n",
      "Number of people in queue = {1: 1, 2: 1}\r\n",
      "Total People in frame = 4\r\n",
      "Number of people in queue = {1: 2, 2: 1}\r\n",
      "Total People in frame = 3\r\n",
      "Number of people in queue = {1: 2, 2: 1}\r\n",
      "Total People in frame = 3\r\n",
      "Number of people in queue = {1: 2, 2: 1}\r\n",
      "Total People in frame = 3\r\n",
      "Number of people in queue = {1: 2, 2: 1}\r\n",
      "Total People in frame = 3\r\n",
      "Number of people in queue = {1: 2, 2: 1}\r\n",
      "Total People in frame = 3\r\n",
      "Number of people in queue = {1: 2, 2: 1}\r\n",
      "Total People in frame = 3\r\n",
      "Number of people in queue = {1: 2, 2: 1}\r\n",
      "Total People in frame = 3\r\n",
      "Number of people in queue = {1: 2, 2: 1}\r\n",
      "Total People in frame = 3\r\n",
      "Number of people in queue = {1: 2, 2: 1}\r\n",
      "Total People in frame = 4\r\n",
      "Number of people in queue = {1: 2, 2: 1}\r\n",
      "Total People in frame = 4\r\n",
      "Number of people in queue = {1: 2, 2: 1}\r\n",
      "Total People in frame = 4\r\n",
      "Number of people in queue = {1: 2, 2: 1}\r\n",
      "Total People in frame = 3\r\n",
      "Number of people in queue = {1: 2, 2: 1}\r\n",
      "Total People in frame = 3\r\n",
      "Number of people in queue = {1: 2, 2: 1}\r\n",
      "Total People in frame = 3\r\n",
      "Number of people in queue = {1: 2, 2: 1}\r\n",
      "Total People in frame = 3\r\n",
      "Number of people in queue = {1: 1, 2: 1}\r\n",
      "Total People in frame = 3\r\n",
      "Number of people in queue = {1: 1, 2: 1}\r\n",
      "Total People in frame = 4\r\n",
      "Number of people in queue = {1: 1, 2: 1}\r\n",
      "Total People in frame = 4\r\n",
      "Number of people in queue = {1: 1, 2: 1}\r\n",
      "Total People in frame = 3\r\n",
      "Number of people in queue = {1: 1, 2: 1}\r\n",
      "Total People in frame = 4\r\n",
      "Number of people in queue = {1: 1, 2: 1}\r\n",
      "Total People in frame = 4\r\n",
      "Number of people in queue = {1: 1, 2: 1}\r\n",
      "Total People in frame = 4\r\n",
      "Number of people in queue = {1: 1, 2: 1}\r\n",
      "Total People in frame = 4\r\n",
      "Number of people in queue = {1: 1, 2: 1}\r\n",
      "Total People in frame = 4\r\n",
      "Number of people in queue = {1: 1, 2: 1}\r\n",
      "Total People in frame = 4\r\n",
      "Number of people in queue = {1: 1, 2: 1}\r\n",
      "Total People in frame = 3\r\n",
      "Number of people in queue = {1: 1, 2: 0}\r\n",
      "Total People in frame = 3\r\n",
      "Number of people in queue = {1: 1, 2: 0}\r\n",
      "Total People in frame = 2\r\n",
      "Number of people in queue = {1: 1, 2: 0}\r\n",
      "Total People in frame = 2\r\n",
      "Number of people in queue = {1: 1, 2: 0}\r\n",
      "Total People in frame = 3\r\n",
      "Number of people in queue = {1: 1, 2: 1}\r\n",
      "Total People in frame = 2\r\n",
      "Number of people in queue = {1: 1, 2: 0}\r\n",
      "Total People in frame = 2\r\n",
      "Number of people in queue = {1: 1, 2: 0}\r\n",
      "Total People in frame = 2\r\n",
      "Number of people in queue = {1: 1, 2: 0}\r\n",
      "Total People in frame = 2\r\n",
      "Number of people in queue = {1: 1, 2: 0}\r\n",
      "Total People in frame = 2\r\n",
      "Number of people in queue = {1: 1, 2: 0}\r\n",
      "Total People in frame = 2\r\n",
      "Number of people in queue = {1: 1, 2: 0}\r\n",
      "Total People in frame = 2\r\n",
      "Number of people in queue = {1: 1, 2: 0}\r\n",
      "Total People in frame = 2\r\n",
      "Number of people in queue = {1: 1, 2: 0}\r\n",
      "Total People in frame = 2\r\n",
      "Number of people in queue = {1: 1, 2: 0}\r\n",
      "Total People in frame = 2\r\n",
      "Number of people in queue = {1: 1, 2: 0}\r\n",
      "Total People in frame = 3\r\n",
      "Number of people in queue = {1: 1, 2: 0}\r\n",
      "Total People in frame = 3\r\n",
      "Number of people in queue = {1: 1, 2: 0}\r\n",
      "Total People in frame = 2\r\n",
      "Number of people in queue = {1: 1, 2: 0}\r\n",
      "Total People in frame = 2\r\n",
      "Number of people in queue = {1: 1, 2: 0}\r\n",
      "Total People in frame = 2\r\n",
      "Number of people in queue = {1: 1, 2: 0}\r\n",
      "Total People in frame = 3\r\n",
      "Number of people in queue = {1: 1, 2: 0}\r\n",
      "Total People in frame = 3\r\n",
      "Number of people in queue = {1: 1, 2: 1}\r\n",
      "Total People in frame = 4\r\n",
      "Number of people in queue = {1: 1, 2: 1}\r\n",
      "Total People in frame = 3\r\n",
      "Number of people in queue = {1: 1, 2: 1}\r\n",
      "Total People in frame = 3\r\n",
      "Number of people in queue = {1: 1, 2: 1}\r\n",
      "Total People in frame = 3\r\n",
      "Number of people in queue = {1: 1, 2: 1}\r\n",
      "Total People in frame = 3\r\n",
      "Number of people in queue = {1: 1, 2: 1}\r\n",
      "Total People in frame = 3\r\n",
      "Number of people in queue = {1: 1, 2: 1}\r\n",
      "Total People in frame = 3\r\n",
      "Number of people in queue = {1: 1, 2: 1}\r\n",
      "Total People in frame = 3\r\n",
      "Number of people in queue = {1: 1, 2: 1}\r\n",
      "Total People in frame = 3\r\n",
      "Number of people in queue = {1: 1, 2: 1}\r\n",
      "Total People in frame = 3\r\n",
      "Number of people in queue = {1: 1, 2: 1}\r\n",
      "Total People in frame = 3\r\n",
      "Number of people in queue = {1: 1, 2: 1}\r\n",
      "Total People in frame = 3\r\n",
      "Number of people in queue = {1: 1, 2: 1}\r\n",
      "Total People in frame = 3\r\n",
      "Number of people in queue = {1: 1, 2: 1}\r\n",
      "Total People in frame = 3\r\n",
      "Number of people in queue = {1: 1, 2: 1}\r\n",
      "Total People in frame = 3\r\n",
      "Number of people in queue = {1: 1, 2: 1}\r\n",
      "Total People in frame = 3\r\n",
      "Number of people in queue = {1: 1, 2: 1}\r\n",
      "Total People in frame = 3\r\n",
      "Number of people in queue = {1: 1, 2: 1}\r\n",
      "Total People in frame = 3\r\n",
      "Number of people in queue = {1: 1, 2: 1}\r\n",
      "Total People in frame = 3\r\n",
      "Number of people in queue = {1: 1, 2: 1}\r\n",
      "Total People in frame = 3\r\n",
      "Number of people in queue = {1: 1, 2: 1}\r\n",
      "Total People in frame = 3\r\n",
      "Number of people in queue = {1: 1, 2: 1}\r\n",
      "Total People in frame = 3\r\n",
      "Number of people in queue = {1: 1, 2: 1}\r\n",
      "Total People in frame = 3\r\n",
      "Number of people in queue = {1: 1, 2: 1}\r\n",
      "Total People in frame = 3\r\n",
      "Number of people in queue = {1: 1, 2: 1}\r\n",
      "Total People in frame = 3\r\n",
      "Number of people in queue = {1: 1, 2: 1}\r\n",
      "Total People in frame = 3\r\n",
      "Number of people in queue = {1: 1, 2: 1}\r\n",
      "Total People in frame = 3\r\n",
      "Number of people in queue = {1: 1, 2: 1}\r\n",
      "Total People in frame = 4\r\n",
      "Number of people in queue = {1: 1, 2: 1}\r\n",
      "Total People in frame = 3\r\n",
      "Number of people in queue = {1: 1, 2: 1}\r\n",
      "Total People in frame = 4\r\n",
      "Number of people in queue = {1: 1, 2: 1}\r\n",
      "Total People in frame = 4\r\n",
      "Number of people in queue = {1: 1, 2: 1}\r\n",
      "Total People in frame = 4\r\n",
      "Number of people in queue = {1: 1, 2: 1}\r\n",
      "Total People in frame = 4\r\n",
      "Number of people in queue = {1: 1, 2: 1}\r\n",
      "Total People in frame = 3\r\n",
      "Number of people in queue = {1: 1, 2: 1}\r\n",
      "Total People in frame = 3\r\n",
      "Number of people in queue = {1: 1, 2: 1}\r\n",
      "Total People in frame = 3\r\n",
      "Number of people in queue = {1: 1, 2: 1}\r\n",
      "Total People in frame = 3\r\n",
      "Number of people in queue = {1: 1, 2: 1}\r\n",
      "Total People in frame = 3\r\n",
      "Number of people in queue = {1: 1, 2: 1}\r\n",
      "Total People in frame = 3\r\n",
      "Number of people in queue = {1: 1, 2: 1}\r\n",
      "Total People in frame = 3\r\n",
      "Number of people in queue = {1: 1, 2: 1}\r\n",
      "Total People in frame = 4\r\n",
      "Number of people in queue = {1: 1, 2: 1}\r\n",
      "Total People in frame = 3\r\n",
      "Number of people in queue = {1: 1, 2: 1}\r\n",
      "Total People in frame = 4\r\n",
      "Number of people in queue = {1: 1, 2: 1}\r\n",
      "Total People in frame = 4\r\n",
      "Number of people in queue = {1: 1, 2: 1}\r\n",
      "Total People in frame = 4\r\n",
      "Number of people in queue = {1: 1, 2: 1}\r\n",
      "Total People in frame = 4\r\n",
      "Number of people in queue = {1: 1, 2: 1}\r\n",
      "Total People in frame = 3\r\n",
      "Number of people in queue = {1: 1, 2: 1}\r\n",
      "Total People in frame = 2\r\n",
      "Number of people in queue = {1: 1, 2: 1}\r\n",
      "Total People in frame = 3\r\n",
      "Number of people in queue = {1: 1, 2: 1}\r\n",
      "Total People in frame = 2\r\n",
      "Number of people in queue = {1: 1, 2: 0}\r\n",
      "Total People in frame = 2\r\n",
      "Number of people in queue = {1: 1, 2: 0}\r\n",
      "Total People in frame = 2\r\n",
      "Number of people in queue = {1: 1, 2: 0}\r\n",
      "Total People in frame = 2\r\n",
      "Number of people in queue = {1: 1, 2: 0}\r\n",
      "Total People in frame = 2\r\n",
      "Number of people in queue = {1: 1, 2: 0}\r\n",
      "Total People in frame = 0\r\n",
      "Number of people in queue = {1: 0, 2: 0}\r\n",
      "results/\r\n",
      "results/retail/\r\n",
      "results/retail/fpga/\r\n",
      "results/retail/fpga/stats.txt\r\n",
      "results/retail/fpga/output_video.mp4\r\n",
      "stderr.log\r\n"
     ]
    }
   ],
   "source": [
    "!cat stdout.log"
   ]
  },
  {
   "cell_type": "markdown",
   "metadata": {},
   "source": [
    "#### View stderr.log\n",
    "This can be used for debugging"
   ]
  },
  {
   "cell_type": "code",
   "execution_count": 56,
   "metadata": {},
   "outputs": [
    {
     "name": "stdout",
     "output_type": "stream",
     "text": [
      "person_detect.py:70: DeprecationWarning: Reading network using constructor is deprecated. Please, use IECore.read_network() method instead\r\n",
      "  self.model=IENetwork(self.model_structure, self.model_weights)\r\n"
     ]
    }
   ],
   "source": [
    "!cat stderr.log"
   ]
  },
  {
   "cell_type": "code",
   "execution_count": 57,
   "metadata": {},
   "outputs": [
    {
     "name": "stdout",
     "output_type": "stream",
     "text": [
      "3.4\r\n",
      "48.82352941176471\r\n",
      "28.823301076889038\r\n"
     ]
    }
   ],
   "source": [
    "!cat results/retail/fpga/stats.txt"
   ]
  },
  {
   "cell_type": "markdown",
   "metadata": {},
   "source": [
    "#### View Output Video\n",
    "Run the cell below to view the output video. If inference was successfully run, you should see a video with bounding boxes drawn around each person detected."
   ]
  },
  {
   "cell_type": "code",
   "execution_count": 85,
   "metadata": {},
   "outputs": [
    {
     "data": {
      "text/html": [
       "<h5>Retail FPGA</h5>\n",
       "        <video alt=\"\" controls autoplay muted height=\"480\"><source src=\"results/retail/fpga/output_video.mp4\" type=\"video/mp4\" /></video>\n",
       "        "
      ],
      "text/plain": [
       "<IPython.core.display.HTML object>"
      ]
     },
     "execution_count": 85,
     "metadata": {},
     "output_type": "execute_result"
    }
   ],
   "source": [
    "import videoHtml\n",
    "\n",
    "videoHtml.videoHTML('Retail FPGA', ['results/retail/fpga/output_video.mp4'])"
   ]
  },
  {
   "cell_type": "markdown",
   "metadata": {},
   "source": [
    "***Wait!***\n",
    "\n",
    "Please wait for all the inference jobs and video rendering to complete before proceeding to the next step.\n",
    "\n",
    "## Step 2: Assess Performance\n",
    "\n",
    "Run the cells below to compare the performance across all 4 devices. The following timings for the model are being comapred across all 4 devices:\n",
    "\n",
    "- Model Loading Time\n",
    "- Average Inference Time\n",
    "- FPS"
   ]
  },
  {
   "cell_type": "code",
   "execution_count": 86,
   "metadata": {},
   "outputs": [],
   "source": [
    "import matplotlib.pyplot as plt\n",
    "\n",
    "device_list=['cpu', 'gpu', 'fpga', 'vpu']\n",
    "inference_time=[]\n",
    "fps=[]\n",
    "model_load_time=[]\n",
    "\n",
    "for device in device_list:\n",
    "    with open('results/retail/'+device+'/stats.txt', 'r') as f:\n",
    "        inference_time.append(float(f.readline().split(\"\\n\")[0]))\n",
    "        fps.append(float(f.readline().split(\"\\n\")[0]))\n",
    "        model_load_time.append(float(f.readline().split(\"\\n\")[0]))"
   ]
  },
  {
   "cell_type": "code",
   "execution_count": 87,
   "metadata": {},
   "outputs": [
    {
     "data": {
      "image/png": "[encoded data removed]",
      "text/plain": [
       "<matplotlib.figure.Figure at 0x7f897d56fbe0>"
      ]
     },
     "metadata": {
      "needs_background": "light"
     },
     "output_type": "display_data"
    }
   ],
   "source": [
    "plt.bar(device_list, inference_time)\n",
    "plt.xlabel(\"Device Used\")\n",
    "plt.ylabel(\"Total Inference Time in Seconds\")\n",
    "plt.show()"
   ]
  },
  {
   "cell_type": "code",
   "execution_count": 88,
   "metadata": {},
   "outputs": [
    {
     "name": "stdout",
     "output_type": "stream",
     "text": [
      "Create_Job_Submission_Script.ipynb     results\r\n",
      "Create_Python_Script.ipynb\t       retail_comparison.png\r\n",
      "downloader.ipynb\t\t       retail_comparison_with_multi.png\r\n",
      "manufacture_comparison.png\t       Retail_Scenario.ipynb\r\n",
      "manufacture_comparison_with_multi.png  stderr.log\r\n",
      "Manufacturing_Scenario.ipynb\t       stdout.log\r\n",
      "original_videos\t\t\t       transportation_comparison.png\r\n",
      "output.tgz\t\t\t       transportation_comparison_with_multi.png\r\n",
      "person_detect.py\t\t       Transportation_Scenario.ipynb\r\n",
      "queue_job.sh\t\t\t       workspace_archive.tar\r\n"
     ]
    }
   ],
   "source": [
    "!ls"
   ]
  },
  {
   "cell_type": "code",
   "execution_count": 89,
   "metadata": {},
   "outputs": [
    {
     "data": {
      "image/png": "[encoded data removed]",
      "text/plain": [
       "<matplotlib.figure.Figure at 0x7f897d4d6ef0>"
      ]
     },
     "metadata": {
      "needs_background": "light"
     },
     "output_type": "display_data"
    }
   ],
   "source": [
    "plt.bar(device_list, fps)\n",
    "plt.xlabel(\"Device Used\")\n",
    "plt.ylabel(\"Frames per Second\")\n",
    "plt.show()"
   ]
  },
  {
   "cell_type": "code",
   "execution_count": 90,
   "metadata": {},
   "outputs": [
    {
     "data": {
      "image/png": "[encoded data removed]",
      "text/plain": [
       "<matplotlib.figure.Figure at 0x7f897d43f0b8>"
      ]
     },
     "metadata": {
      "needs_background": "light"
     },
     "output_type": "display_data"
    }
   ],
   "source": [
    "plt.bar(device_list, model_load_time)\n",
    "plt.xlabel(\"Device Used\")\n",
    "plt.ylabel(\"Model Loading Time in Seconds\")\n",
    "plt.show()"
   ]
  },
  {
   "cell_type": "markdown",
   "metadata": {},
   "source": [
    "# Step 3: Update Proposal Document\n",
    "\n",
    "Now that you've completed your hardware testing, you should go back to the proposal document and validate or update your originally proposed hardware. Once you've updated your proposal, you can move onto the next scenario."
   ]
  },
  {
   "cell_type": "markdown",
   "metadata": {},
   "source": [
    "## Optional Task:\n",
    "\n",
    "In this section, I will attempt to run inference on Intel's DevCloud using **multiple Devices** and using matplotlib to plot the different performaces for **model loading time**, **total inference time** and **frames per seconds**. \n",
    "\n",
    "Note: The graphs are plotted out using multiple bars. [references](https://stackoverflow.com/questions/14270391/python-matplotlib-multiple-bars)."
   ]
  },
  {
   "cell_type": "code",
   "execution_count": 106,
   "metadata": {},
   "outputs": [
    {
     "data": {
      "image/png": "[encoded data removed]",
      "text/plain": [
       "<matplotlib.figure.Figure at 0x7f897d56f518>"
      ]
     },
     "metadata": {
      "needs_background": "light"
     },
     "output_type": "display_data"
    }
   ],
   "source": [
    "# Using the multiple bars approach to plot the result analysis: please see the references above for more detail about this approach.\n",
    "import numpy as np\n",
    "\n",
    "fig = plt.figure()\n",
    "ax = fig.add_subplot(111)\n",
    "\n",
    "width = 0.4 # the width of the bars\n",
    "x = np.arange(len(device_list))# the x locations for the devices\n",
    "y1 = ax.bar(x, inference_time, width=0.4, color='r', align='center')\n",
    "y2 = ax.bar(x + width, model_load_time, width=0.4, color='g', align='center')\n",
    "\n",
    "ax.set_ylabel('Time is Seconds')\n",
    "ax.set_xticks(x + width/2)\n",
    "ax.set_xticklabels(device_list)\n",
    "ax.legend( (y1[0], y2[0]), ('Inference Time', 'Model Load Time') )\n",
    "\n",
    "plt.savefig('retail_comparison.png')"
   ]
  },
  {
   "cell_type": "markdown",
   "metadata": {},
   "source": [
    "## Using Multi-Devices to run inference \n",
    "\n",
    "For more information, please see [here](https://docs.openvinotoolkit.org/latest/_docs_IE_DG_supported_plugins_MULTI.html)."
   ]
  },
  {
   "cell_type": "code",
   "execution_count": 92,
   "metadata": {},
   "outputs": [
    {
     "data": {
      "text/plain": [
       "'MULTI:MYRIAD,GPU,CPU /data/models/intel/person-detection-retail-0013/FP16/person-detection-retail-0013 /data/resources/retail.mp4 /data/queue_param/manufacturing.npy /output/results/retail/multi 2'"
      ]
     },
     "execution_count": 92,
     "metadata": {},
     "output_type": "execute_result"
    }
   ],
   "source": [
    "# Defining parameters to run inference on the devices:\n",
    "device = \"MULTI:MYRIAD,GPU,CPU\"\n",
    "model_path = \"/data/models/intel/person-detection-retail-0013/FP16/person-detection-retail-0013\"\n",
    "video_path = \"/data/resources/retail.mp4\"\n",
    "queue = \"/data/queue_param/manufacturing.npy\"\n",
    "output_path = \"/output/results/retail/multi\"\n",
    "max_people = 2\n",
    "\n",
    "# As order declared in queue_job.sh  - DEVICE=$1 MODEL=$2 VIDEO=$3 QUEUE=$4 OUTPUT=$5 PEOPLE=$6\n",
    "variable = '{} {} {} {} {} {}'.format(device, model_path, video_path, queue, output_path, max_people)\n",
    "job_name = \"retail_multi\"\n",
    "variable"
   ]
  },
  {
   "cell_type": "code",
   "execution_count": 93,
   "metadata": {},
   "outputs": [
    {
     "name": "stdout",
     "output_type": "stream",
     "text": [
      "yB4eGn7sMVkxHHi2vz8zt1st8nVLcu6b\n"
     ]
    }
   ],
   "source": [
    "#Submit job to the queue\n",
    "multi_job_id =  !qsub queue_job.sh -d . -l nodes=1:tank-870:i5-6500te:intel-hd-530:intel-ncs2 -F \"{variable}\" -N \"{job_name}\"\n",
    "\n",
    "print(multi_job_id[0])"
   ]
  },
  {
   "cell_type": "code",
   "execution_count": 94,
   "metadata": {},
   "outputs": [],
   "source": [
    "import liveQStat\n",
    "liveQStat.liveQStat()"
   ]
  },
  {
   "cell_type": "code",
   "execution_count": 95,
   "metadata": {},
   "outputs": [
    {
     "name": "stdout",
     "output_type": "stream",
     "text": [
      "getResults() is blocking until results of the job (id:yB4eGn7sMVkxHHi2vz8zt1st8nVLcu6b) are ready.\n",
      "Please wait.................................................................Success!\n",
      "output.tgz was downloaded in the same folder as this notebook.\n"
     ]
    }
   ],
   "source": [
    "import get_results\n",
    "get_results.getResults(multi_job_id[0], filename='output.tgz', blocking=True)"
   ]
  },
  {
   "cell_type": "code",
   "execution_count": 96,
   "metadata": {},
   "outputs": [],
   "source": [
    "!tar zxf output.tgz"
   ]
  },
  {
   "cell_type": "code",
   "execution_count": 97,
   "metadata": {},
   "outputs": [
    {
     "name": "stdout",
     "output_type": "stream",
     "text": [
      "Total People in frame = 4\r\n",
      "Number of people in queue = {1: 0, 2: 1}\r\n",
      "Total People in frame = 4\r\n",
      "Number of people in queue = {1: 0, 2: 1}\r\n",
      "Total People in frame = 4\r\n",
      "Number of people in queue = {1: 0, 2: 1}\r\n",
      "Total People in frame = 4\r\n",
      "Number of people in queue = {1: 0, 2: 1}\r\n",
      "Total People in frame = 4\r\n",
      "Number of people in queue = {1: 0, 2: 1}\r\n",
      "Total People in frame = 4\r\n",
      "Number of people in queue = {1: 0, 2: 1}\r\n",
      "Total People in frame = 4\r\n",
      "Number of people in queue = {1: 0, 2: 1}\r\n",
      "Total People in frame = 4\r\n",
      "Number of people in queue = {1: 0, 2: 1}\r\n",
      "Total People in frame = 4\r\n",
      "Number of people in queue = {1: 0, 2: 1}\r\n",
      "Total People in frame = 4\r\n",
      "Number of people in queue = {1: 0, 2: 1}\r\n",
      "Total People in frame = 4\r\n",
      "Number of people in queue = {1: 0, 2: 1}\r\n",
      "Total People in frame = 4\r\n",
      "Number of people in queue = {1: 0, 2: 1}\r\n",
      "Total People in frame = 3\r\n",
      "Number of people in queue = {1: 0, 2: 1}\r\n",
      "Total People in frame = 3\r\n",
      "Number of people in queue = {1: 0, 2: 1}\r\n",
      "Total People in frame = 3\r\n",
      "Number of people in queue = {1: 0, 2: 1}\r\n",
      "Total People in frame = 3\r\n",
      "Number of people in queue = {1: 0, 2: 1}\r\n",
      "Total People in frame = 3\r\n",
      "Number of people in queue = {1: 0, 2: 1}\r\n",
      "Total People in frame = 3\r\n",
      "Number of people in queue = {1: 0, 2: 1}\r\n",
      "Total People in frame = 3\r\n",
      "Number of people in queue = {1: 0, 2: 1}\r\n",
      "Total People in frame = 4\r\n",
      "Number of people in queue = {1: 1, 2: 1}\r\n",
      "Total People in frame = 3\r\n",
      "Number of people in queue = {1: 0, 2: 1}\r\n",
      "Total People in frame = 4\r\n",
      "Number of people in queue = {1: 0, 2: 1}\r\n",
      "Total People in frame = 5\r\n",
      "Number of people in queue = {1: 1, 2: 1}\r\n",
      "Total People in frame = 5\r\n",
      "Number of people in queue = {1: 1, 2: 1}\r\n",
      "Total People in frame = 5\r\n",
      "Number of people in queue = {1: 1, 2: 1}\r\n",
      "Total People in frame = 5\r\n",
      "Number of people in queue = {1: 1, 2: 1}\r\n",
      "Total People in frame = 4\r\n",
      "Number of people in queue = {1: 1, 2: 1}\r\n",
      "Total People in frame = 5\r\n",
      "Number of people in queue = {1: 1, 2: 1}\r\n",
      "Total People in frame = 5\r\n",
      "Number of people in queue = {1: 1, 2: 1}\r\n",
      "Total People in frame = 5\r\n",
      "Number of people in queue = {1: 1, 2: 1}\r\n",
      "Total People in frame = 5\r\n",
      "Number of people in queue = {1: 1, 2: 1}\r\n",
      "Total People in frame = 5\r\n",
      "Number of people in queue = {1: 1, 2: 1}\r\n",
      "Total People in frame = 5\r\n",
      "Number of people in queue = {1: 1, 2: 1}\r\n",
      "Total People in frame = 5\r\n",
      "Number of people in queue = {1: 1, 2: 1}\r\n",
      "Total People in frame = 5\r\n",
      "Number of people in queue = {1: 1, 2: 1}\r\n",
      "Total People in frame = 6\r\n",
      "Number of people in queue = {1: 1, 2: 1}\r\n",
      "Total People in frame = 5\r\n",
      "Number of people in queue = {1: 1, 2: 1}\r\n",
      "Total People in frame = 6\r\n",
      "Number of people in queue = {1: 1, 2: 1}\r\n",
      "Total People in frame = 6\r\n",
      "Number of people in queue = {1: 1, 2: 1}\r\n",
      "Total People in frame = 6\r\n",
      "Number of people in queue = {1: 1, 2: 1}\r\n",
      "Total People in frame = 6\r\n",
      "Number of people in queue = {1: 1, 2: 1}\r\n",
      "Total People in frame = 6\r\n",
      "Number of people in queue = {1: 1, 2: 1}\r\n",
      "Total People in frame = 6\r\n",
      "Number of people in queue = {1: 1, 2: 1}\r\n",
      "Total People in frame = 6\r\n",
      "Number of people in queue = {1: 1, 2: 1}\r\n",
      "Total People in frame = 5\r\n",
      "Number of people in queue = {1: 1, 2: 1}\r\n",
      "Total People in frame = 5\r\n",
      "Number of people in queue = {1: 1, 2: 1}\r\n",
      "Total People in frame = 5\r\n",
      "Number of people in queue = {1: 1, 2: 1}\r\n",
      "Total People in frame = 6\r\n",
      "Number of people in queue = {1: 1, 2: 1}\r\n",
      "Total People in frame = 5\r\n",
      "Number of people in queue = {1: 1, 2: 1}\r\n",
      "Total People in frame = 5\r\n",
      "Number of people in queue = {1: 1, 2: 1}\r\n",
      "Total People in frame = 5\r\n",
      "Number of people in queue = {1: 1, 2: 1}\r\n",
      "Total People in frame = 4\r\n",
      "Number of people in queue = {1: 0, 2: 1}\r\n",
      "Total People in frame = 4\r\n",
      "Number of people in queue = {1: 0, 2: 1}\r\n",
      "Total People in frame = 3\r\n",
      "Number of people in queue = {1: 0, 2: 1}\r\n",
      "Total People in frame = 3\r\n",
      "Number of people in queue = {1: 0, 2: 1}\r\n",
      "Total People in frame = 4\r\n",
      "Number of people in queue = {1: 0, 2: 1}\r\n",
      "Total People in frame = 4\r\n",
      "Number of people in queue = {1: 0, 2: 1}\r\n",
      "Total People in frame = 4\r\n",
      "Number of people in queue = {1: 0, 2: 1}\r\n",
      "Total People in frame = 4\r\n",
      "Number of people in queue = {1: 0, 2: 1}\r\n",
      "Total People in frame = 4\r\n",
      "Number of people in queue = {1: 0, 2: 1}\r\n",
      "Total People in frame = 4\r\n",
      "Number of people in queue = {1: 0, 2: 1}\r\n",
      "Total People in frame = 2\r\n",
      "Number of people in queue = {1: 0, 2: 1}\r\n",
      "Total People in frame = 3\r\n",
      "Number of people in queue = {1: 0, 2: 1}\r\n",
      "Total People in frame = 4\r\n",
      "Number of people in queue = {1: 0, 2: 1}\r\n",
      "Total People in frame = 4\r\n",
      "Number of people in queue = {1: 0, 2: 1}\r\n",
      "Total People in frame = 3\r\n",
      "Number of people in queue = {1: 0, 2: 1}\r\n",
      "Total People in frame = 3\r\n",
      "Number of people in queue = {1: 0, 2: 1}\r\n",
      "Total People in frame = 3\r\n",
      "Number of people in queue = {1: 0, 2: 1}\r\n",
      "Total People in frame = 3\r\n",
      "Number of people in queue = {1: 0, 2: 1}\r\n",
      "Total People in frame = 3\r\n",
      "Number of people in queue = {1: 0, 2: 1}\r\n",
      "Total People in frame = 3\r\n",
      "Number of people in queue = {1: 0, 2: 1}\r\n",
      "Total People in frame = 3\r\n",
      "Number of people in queue = {1: 0, 2: 1}\r\n",
      "Total People in frame = 4\r\n",
      "Number of people in queue = {1: 0, 2: 1}\r\n",
      "Total People in frame = 4\r\n",
      "Number of people in queue = {1: 0, 2: 1}\r\n",
      "Total People in frame = 4\r\n",
      "Number of people in queue = {1: 0, 2: 1}\r\n",
      "Total People in frame = 3\r\n",
      "Number of people in queue = {1: 0, 2: 1}\r\n",
      "Total People in frame = 3\r\n",
      "Number of people in queue = {1: 0, 2: 1}\r\n",
      "Total People in frame = 3\r\n",
      "Number of people in queue = {1: 0, 2: 1}\r\n",
      "Total People in frame = 3\r\n",
      "Number of people in queue = {1: 0, 2: 1}\r\n",
      "Total People in frame = 3\r\n",
      "Number of people in queue = {1: 0, 2: 1}\r\n",
      "Total People in frame = 4\r\n",
      "Number of people in queue = {1: 0, 2: 1}\r\n",
      "Total People in frame = 3\r\n",
      "Number of people in queue = {1: 0, 2: 1}\r\n",
      "Total People in frame = 3\r\n",
      "Number of people in queue = {1: 0, 2: 1}\r\n",
      "Total People in frame = 4\r\n",
      "Number of people in queue = {1: 1, 2: 1}\r\n",
      "Total People in frame = 4\r\n",
      "Number of people in queue = {1: 0, 2: 1}\r\n",
      "Total People in frame = 4\r\n",
      "Number of people in queue = {1: 0, 2: 1}\r\n",
      "Total People in frame = 4\r\n",
      "Number of people in queue = {1: 0, 2: 1}\r\n",
      "Total People in frame = 4\r\n",
      "Number of people in queue = {1: 0, 2: 1}\r\n",
      "Total People in frame = 4\r\n",
      "Number of people in queue = {1: 0, 2: 1}\r\n",
      "Total People in frame = 3\r\n",
      "Number of people in queue = {1: 0, 2: 0}\r\n",
      "Total People in frame = 3\r\n",
      "Number of people in queue = {1: 0, 2: 1}\r\n",
      "Total People in frame = 2\r\n",
      "Number of people in queue = {1: 0, 2: 0}\r\n",
      "Total People in frame = 2\r\n",
      "Number of people in queue = {1: 0, 2: 0}\r\n",
      "Total People in frame = 2\r\n",
      "Number of people in queue = {1: 0, 2: 0}\r\n",
      "Total People in frame = 2\r\n",
      "Number of people in queue = {1: 0, 2: 0}\r\n",
      "Total People in frame = 2\r\n",
      "Number of people in queue = {1: 0, 2: 0}\r\n",
      "Total People in frame = 2\r\n",
      "Number of people in queue = {1: 0, 2: 0}\r\n",
      "Total People in frame = 2\r\n",
      "Number of people in queue = {1: 0, 2: 0}\r\n",
      "Total People in frame = 2\r\n",
      "Number of people in queue = {1: 0, 2: 0}\r\n",
      "Total People in frame = 2\r\n",
      "Number of people in queue = {1: 0, 2: 0}\r\n",
      "Total People in frame = 2\r\n",
      "Number of people in queue = {1: 0, 2: 0}\r\n",
      "Total People in frame = 2\r\n",
      "Number of people in queue = {1: 0, 2: 0}\r\n",
      "Total People in frame = 2\r\n",
      "Number of people in queue = {1: 0, 2: 0}\r\n",
      "Total People in frame = 2\r\n",
      "Number of people in queue = {1: 0, 2: 0}\r\n",
      "Total People in frame = 3\r\n",
      "Number of people in queue = {1: 1, 2: 0}\r\n",
      "Total People in frame = 3\r\n",
      "Number of people in queue = {1: 1, 2: 0}\r\n",
      "Total People in frame = 2\r\n",
      "Number of people in queue = {1: 0, 2: 0}\r\n",
      "Total People in frame = 2\r\n",
      "Number of people in queue = {1: 0, 2: 0}\r\n",
      "Total People in frame = 2\r\n",
      "Number of people in queue = {1: 0, 2: 0}\r\n",
      "Total People in frame = 3\r\n",
      "Number of people in queue = {1: 1, 2: 0}\r\n",
      "Total People in frame = 3\r\n",
      "Number of people in queue = {1: 0, 2: 1}\r\n",
      "Total People in frame = 4\r\n",
      "Number of people in queue = {1: 1, 2: 1}\r\n",
      "Total People in frame = 3\r\n",
      "Number of people in queue = {1: 0, 2: 1}\r\n",
      "Total People in frame = 3\r\n",
      "Number of people in queue = {1: 0, 2: 1}\r\n",
      "Total People in frame = 3\r\n",
      "Number of people in queue = {1: 0, 2: 1}\r\n",
      "Total People in frame = 3\r\n",
      "Number of people in queue = {1: 0, 2: 1}\r\n",
      "Total People in frame = 3\r\n",
      "Number of people in queue = {1: 0, 2: 1}\r\n",
      "Total People in frame = 3\r\n",
      "Number of people in queue = {1: 0, 2: 1}\r\n",
      "Total People in frame = 3\r\n",
      "Number of people in queue = {1: 0, 2: 1}\r\n",
      "Total People in frame = 3\r\n",
      "Number of people in queue = {1: 0, 2: 1}\r\n",
      "Total People in frame = 3\r\n",
      "Number of people in queue = {1: 0, 2: 1}\r\n",
      "Total People in frame = 3\r\n",
      "Number of people in queue = {1: 0, 2: 1}\r\n",
      "Total People in frame = 3\r\n",
      "Number of people in queue = {1: 0, 2: 1}\r\n",
      "Total People in frame = 3\r\n",
      "Number of people in queue = {1: 0, 2: 1}\r\n",
      "Total People in frame = 3\r\n",
      "Number of people in queue = {1: 0, 2: 1}\r\n",
      "Total People in frame = 3\r\n",
      "Number of people in queue = {1: 0, 2: 1}\r\n",
      "Total People in frame = 3\r\n",
      "Number of people in queue = {1: 0, 2: 1}\r\n",
      "Total People in frame = 3\r\n",
      "Number of people in queue = {1: 0, 2: 1}\r\n",
      "Total People in frame = 3\r\n",
      "Number of people in queue = {1: 0, 2: 1}\r\n",
      "Total People in frame = 3\r\n",
      "Number of people in queue = {1: 0, 2: 1}\r\n",
      "Total People in frame = 3\r\n",
      "Number of people in queue = {1: 0, 2: 1}\r\n",
      "Total People in frame = 3\r\n",
      "Number of people in queue = {1: 0, 2: 1}\r\n",
      "Total People in frame = 3\r\n",
      "Number of people in queue = {1: 0, 2: 1}\r\n",
      "Total People in frame = 3\r\n",
      "Number of people in queue = {1: 0, 2: 1}\r\n",
      "Total People in frame = 3\r\n",
      "Number of people in queue = {1: 0, 2: 1}\r\n",
      "Total People in frame = 3\r\n",
      "Number of people in queue = {1: 0, 2: 1}\r\n",
      "Total People in frame = 3\r\n",
      "Number of people in queue = {1: 0, 2: 1}\r\n",
      "Total People in frame = 3\r\n",
      "Number of people in queue = {1: 0, 2: 1}\r\n",
      "Total People in frame = 3\r\n",
      "Number of people in queue = {1: 0, 2: 1}\r\n",
      "Total People in frame = 3\r\n",
      "Number of people in queue = {1: 0, 2: 1}\r\n",
      "Total People in frame = 4\r\n",
      "Number of people in queue = {1: 1, 2: 1}\r\n",
      "Total People in frame = 4\r\n",
      "Number of people in queue = {1: 1, 2: 1}\r\n",
      "Total People in frame = 4\r\n",
      "Number of people in queue = {1: 1, 2: 1}\r\n",
      "Total People in frame = 3\r\n",
      "Number of people in queue = {1: 0, 2: 1}\r\n",
      "Total People in frame = 3\r\n",
      "Number of people in queue = {1: 0, 2: 1}\r\n",
      "Total People in frame = 3\r\n",
      "Number of people in queue = {1: 0, 2: 1}\r\n",
      "Total People in frame = 3\r\n",
      "Number of people in queue = {1: 0, 2: 1}\r\n",
      "Total People in frame = 3\r\n",
      "Number of people in queue = {1: 0, 2: 1}\r\n",
      "Total People in frame = 3\r\n",
      "Number of people in queue = {1: 0, 2: 1}\r\n",
      "Total People in frame = 3\r\n",
      "Number of people in queue = {1: 0, 2: 1}\r\n",
      "Total People in frame = 3\r\n",
      "Number of people in queue = {1: 0, 2: 1}\r\n",
      "Total People in frame = 4\r\n",
      "Number of people in queue = {1: 1, 2: 1}\r\n",
      "Total People in frame = 3\r\n",
      "Number of people in queue = {1: 0, 2: 1}\r\n",
      "Total People in frame = 4\r\n",
      "Number of people in queue = {1: 1, 2: 1}\r\n",
      "Total People in frame = 4\r\n",
      "Number of people in queue = {1: 1, 2: 1}\r\n",
      "Total People in frame = 3\r\n",
      "Number of people in queue = {1: 0, 2: 1}\r\n",
      "Total People in frame = 4\r\n",
      "Number of people in queue = {1: 1, 2: 1}\r\n",
      "Total People in frame = 3\r\n",
      "Number of people in queue = {1: 0, 2: 1}\r\n",
      "Total People in frame = 2\r\n",
      "Number of people in queue = {1: 0, 2: 1}\r\n",
      "Total People in frame = 3\r\n",
      "Number of people in queue = {1: 0, 2: 1}\r\n",
      "Total People in frame = 2\r\n",
      "Number of people in queue = {1: 0, 2: 0}\r\n",
      "Total People in frame = 2\r\n",
      "Number of people in queue = {1: 0, 2: 0}\r\n",
      "Total People in frame = 2\r\n",
      "Number of people in queue = {1: 0, 2: 0}\r\n",
      "Total People in frame = 2\r\n",
      "Number of people in queue = {1: 0, 2: 0}\r\n",
      "Total People in frame = 2\r\n",
      "Number of people in queue = {1: 0, 2: 0}\r\n",
      "Total People in frame = 0\r\n",
      "Number of people in queue = {1: 0, 2: 0}\r\n",
      "results/\r\n",
      "results/retail/\r\n",
      "results/retail/multi/\r\n",
      "results/retail/multi/stats.txt\r\n",
      "results/retail/multi/output_video.mp4\r\n",
      "stderr.log\r\n"
     ]
    }
   ],
   "source": [
    "!cat stdout.log"
   ]
  },
  {
   "cell_type": "code",
   "execution_count": 98,
   "metadata": {},
   "outputs": [
    {
     "name": "stdout",
     "output_type": "stream",
     "text": [
      "24.8\r\n",
      "6.693548387096774\r\n",
      "59.02917671203613\r\n"
     ]
    }
   ],
   "source": [
    "!cat results/retail/multi/stats.txt"
   ]
  },
  {
   "cell_type": "code",
   "execution_count": 103,
   "metadata": {},
   "outputs": [],
   "source": [
    "import matplotlib.pyplot as plt\n",
    "\n",
    "device_list=['cpu', 'gpu', 'fpga', 'vpu', 'multi']\n",
    "inference_time=[]\n",
    "fps=[]\n",
    "model_load_time=[]\n",
    "\n",
    "for device in device_list:\n",
    "    with open('results/retail/'+device+'/stats.txt', 'r') as f:\n",
    "        inference_time.append(float(f.readline().split(\"\\n\")[0]))\n",
    "        fps.append(float(f.readline().split(\"\\n\")[0]))\n",
    "        model_load_time.append(float(f.readline().split(\"\\n\")[0]))"
   ]
  },
  {
   "cell_type": "code",
   "execution_count": 107,
   "metadata": {},
   "outputs": [
    {
     "data": {
      "image/png": "[encoded data removed]",
      "text/plain": [
       "<matplotlib.figure.Figure at 0x7f897d687fd0>"
      ]
     },
     "metadata": {
      "needs_background": "light"
     },
     "output_type": "display_data"
    }
   ],
   "source": [
    "import numpy as np\n",
    "\n",
    "fig = plt.figure()\n",
    "ax = fig.add_subplot(111)\n",
    "\n",
    "width = 0.4 # the width of the bars\n",
    "x = np.arange(len(device_list))# the x locations for the devices\n",
    "y1 = ax.bar(x, inference_time, width=0.4, color='r', align='center')\n",
    "y2 = ax.bar(x + width, model_load_time, width=0.4, color='g', align='center')\n",
    "\n",
    "ax.set_ylabel('Time is Seconds')\n",
    "ax.set_xticks(x + width/2)\n",
    "ax.set_xticklabels(device_list)\n",
    "ax.legend( (y1[0], y2[0]), ('Inference Time', 'Model Load Time') )\n",
    "\n",
    "plt.savefig('retail_comparison_with_multi.png')"
   ]
  },
  {
   "cell_type": "markdown",
   "metadata": {},
   "source": [
    "## Viewing the video \n",
    "\n",
    "Ruing inference on the video stream using multi-Devices.\n",
    "\n",
    "More information on Multi-Devices Plugins can be found [here](https://docs.openvinotoolkit.org/latest/_docs_IE_DG_supported_plugins_MULTI.html)"
   ]
  },
  {
   "cell_type": "code",
   "execution_count": 108,
   "metadata": {},
   "outputs": [
    {
     "data": {
      "text/html": [
       "<h5>Retail Multi</h5>\n",
       "        <video alt=\"\" controls autoplay muted height=\"480\"><source src=\"results/retail/multi/output_video.mp4\" type=\"video/mp4\" /></video>\n",
       "        "
      ],
      "text/plain": [
       "<IPython.core.display.HTML object>"
      ]
     },
     "execution_count": 108,
     "metadata": {},
     "output_type": "execute_result"
    }
   ],
   "source": [
    "videoHtml.videoHTML('Retail Multi', ['results/retail/multi/output_video.mp4'])"
   ]
  },
  {
   "cell_type": "code",
   "execution_count": null,
   "metadata": {},
   "outputs": [],
   "source": []
  }
 ],
 "metadata": {
  "kernelspec": {
   "display_name": "Python 3",
   "language": "python",
   "name": "python3"
  },
  "language_info": {
   "codemirror_mode": {
    "name": "ipython",
    "version": 3
   },
   "file_extension": ".py",
   "mimetype": "text/x-python",
   "name": "python",
   "nbconvert_exporter": "python",
   "pygments_lexer": "ipython3",
   "version": "3.6.3"
  }
 },
 "nbformat": 4,
 "nbformat_minor": 2
}
